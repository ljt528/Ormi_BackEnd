{
  "nbformat": 4,
  "nbformat_minor": 0,
  "metadata": {
    "colab": {
      "provenance": []
    },
    "kernelspec": {
      "name": "python3",
      "display_name": "Python 3"
    },
    "language_info": {
      "name": "python"
    }
  },
  "cells": [
    {
      "cell_type": "markdown",
      "source": [
        "### 파이썬프로그램에서 직접 postgresql에 sql을 호출하여 결과를 가져오는 방법에 대한 샘플코드입니다.\n",
        "\n",
        "### 이런 식으로 파이썬에서 직접 sql을 호출해서도 활용이 가능합니다."
      ],
      "metadata": {
        "id": "MEJXAJtTNXfq"
      }
    },
    {
      "cell_type": "code",
      "execution_count": 1,
      "metadata": {
        "colab": {
          "base_uri": "https://localhost:8080/"
        },
        "id": "TSDvr6GSDD4U",
        "outputId": "91ae6d26-e1ab-4e0d-ed5c-dccb7cd078a6"
      },
      "outputs": [
        {
          "output_type": "stream",
          "name": "stdout",
          "text": [
            "Requirement already satisfied: psycopg2 in /usr/local/lib/python3.10/dist-packages (2.9.6)\n"
          ]
        }
      ],
      "source": [
        "!pip install psycopg2"
      ]
    },
    {
      "cell_type": "markdown",
      "source": [
        "# user 데이터 조회 후 출력"
      ],
      "metadata": {
        "id": "_kEar170EyPd"
      }
    },
    {
      "cell_type": "code",
      "source": [
        "import psycopg2\n",
        "\n",
        "conn = psycopg2.connect(\n",
        "    host=\"ls-1cd264b85086b397d3799fc2e6498927fdb3785a.cg0aaxf2hjqt.ap-northeast-2.rds.amazonaws.com\",\n",
        "    port=\"5432\",\n",
        "    dbname=\"dbstudy\",\n",
        "    user=\"sqlstudy\",\n",
        "    password=\"FUYzVFF6YP4WqhA\"\n",
        ")\n",
        "\n",
        "cursor = conn.cursor()\n",
        "\n",
        "cursor.execute(\"SELECT * FROM users limit 10\")\n",
        "rows = cursor.fetchall()\n",
        "\n",
        "for row in rows:\n",
        "    print(row)\n",
        "\n",
        "cursor.close()\n",
        "conn.close()\n"
      ],
      "metadata": {
        "colab": {
          "base_uri": "https://localhost:8080/"
        },
        "id": "bwdpsoaTDQJi",
        "outputId": "680349de-881f-41fa-b84b-0dbcdf570bae"
      },
      "execution_count": 2,
      "outputs": [
        {
          "output_type": "stream",
          "name": "stdout",
          "text": [
            "(5316, 'Steven', 'Woods', 'stevenwoods@example.org', 35, 'M', 'Mie', '42882 Michael Drive', '513-0836', 'Suzuka City', 'Japan', Decimal('34.85181443'), Decimal('136.5087133'), 'Search', datetime.datetime(2019, 4, 18, 0, 20))\n",
            "(13446, 'Rebecca', 'Santos', 'rebeccasantos@example.org', 59, 'F', 'Mie', '310 Wade Vista', '513-0836', 'Suzuka City', 'Japan', Decimal('34.85181443'), Decimal('136.5087133'), 'Search', datetime.datetime(2020, 10, 25, 2, 43))\n",
            "(1978, 'William', 'Ortiz', 'williamortiz@example.com', 61, 'M', 'Acre', '944 Brooks Summit', '69917-400', 'Rio Branco', 'Brasil', Decimal('-9.945567619'), Decimal('-67.83560991'), 'Display', datetime.datetime(2021, 11, 26, 12, 46))\n",
            "(4834, 'Jennifer', 'Patterson', 'jenniferpatterson@example.net', 37, 'F', 'Acre', '91068 Wise Trace', '69917-400', 'Rio Branco', 'Brasil', Decimal('-9.945567619'), Decimal('-67.83560991'), 'Search', datetime.datetime(2022, 6, 8, 11, 43))\n",
            "(37153, 'Victor', 'Martin', 'victormartin@example.com', 49, 'M', 'Acre', '3437 Luke Street', '69917-400', 'Rio Branco', 'Brasil', Decimal('-9.945567619'), Decimal('-67.83560991'), 'Organic', datetime.datetime(2022, 7, 18, 3, 55))\n",
            "(49725, 'Christina', 'Wood', 'christinawood@example.com', 45, 'F', 'Acre', '13561 Campbell Place', '69917-400', 'Rio Branco', 'Brasil', Decimal('-9.945567619'), Decimal('-67.83560991'), 'Search', datetime.datetime(2020, 12, 11, 10, 6))\n",
            "(61293, 'Diana', 'Yates', 'dianayates@example.org', 41, 'F', 'Acre', '2888 Jacqueline Squares Suite 940', '69917-400', 'Rio Branco', 'Brasil', Decimal('-9.945567619'), Decimal('-67.83560991'), 'Search', datetime.datetime(2023, 6, 25, 13, 16, 47, 826620))\n",
            "(63470, 'Jonathan', 'Byrd', 'jonathanbyrd@example.com', 45, 'M', 'Acre', '0352 Hughes Land Apt. 275', '69917-400', 'Rio Branco', 'Brasil', Decimal('-9.945567619'), Decimal('-67.83560991'), 'Search', datetime.datetime(2019, 9, 26, 8, 44))\n",
            "(74653, 'Lisa', 'Guzman', 'lisaguzman@example.org', 33, 'F', 'Acre', '8095 Gould Center', '69917-400', 'Rio Branco', 'Brasil', Decimal('-9.945567619'), Decimal('-67.83560991'), 'Search', datetime.datetime(2023, 1, 11, 4, 30))\n",
            "(80628, 'Scott', 'Watson', 'scottwatson@example.com', 20, 'M', 'Acre', '906 Berry Rapids Suite 013', '69917-400', 'Rio Branco', 'Brasil', Decimal('-9.945567619'), Decimal('-67.83560991'), 'Search', datetime.datetime(2019, 10, 25, 4, 3))\n"
          ]
        }
      ]
    },
    {
      "cell_type": "markdown",
      "source": [
        "# user 데이터 조회 후 dataframe으로 변환하여 출력"
      ],
      "metadata": {
        "id": "OEo6FkQKE5O6"
      }
    },
    {
      "cell_type": "code",
      "source": [
        "import psycopg2\n",
        "import pandas as pd\n",
        "\n",
        "# PostgreSQL에 연결\n",
        "conn = psycopg2.connect(\n",
        "    host=\"ls-1cd264b85086b397d3799fc2e6498927fdb3785a.cg0aaxf2hjqt.ap-northeast-2.rds.amazonaws.com\",\n",
        "    port=\"5432\",\n",
        "    dbname=\"dbstudy\",\n",
        "    user=\"sqlstudy\",\n",
        "    password=\"FUYzVFF6YP4WqhA\"\n",
        ")\n",
        "\n",
        "\n",
        "# 커서 생성\n",
        "cursor = conn.cursor()\n",
        "\n",
        "# SQL 쿼리 실행\n",
        "cursor.execute(\"SELECT * FROM users limit 10\")\n",
        "\n",
        "# 조회 결과를 pandas 데이터프레임으로 변환\n",
        "columns = [desc[0] for desc in cursor.description]  # 컬럼 이름 추출\n",
        "rows = cursor.fetchall()  # 모든 레코드 가져오기\n",
        "df = pd.DataFrame(rows, columns=columns)\n",
        "\n",
        "# 조회 결과 출력\n",
        "print(df)\n",
        "\n",
        "# 커서와 연결 닫기\n",
        "cursor.close()\n",
        "conn.close()\n"
      ],
      "metadata": {
        "colab": {
          "base_uri": "https://localhost:8080/"
        },
        "id": "nbK8gW7eFAg0",
        "outputId": "6cd8b6bd-7f05-41da-8141-ffebc0be7d43"
      },
      "execution_count": 3,
      "outputs": [
        {
          "output_type": "stream",
          "name": "stdout",
          "text": [
            "      id first_name  last_name                          email  age gender  \\\n",
            "0   5316     Steven      Woods        stevenwoods@example.org   35      M   \n",
            "1  13446    Rebecca     Santos      rebeccasantos@example.org   59      F   \n",
            "2   1978    William      Ortiz       williamortiz@example.com   61      M   \n",
            "3   4834   Jennifer  Patterson  jenniferpatterson@example.net   37      F   \n",
            "4  37153     Victor     Martin       victormartin@example.com   49      M   \n",
            "5  49725  Christina       Wood      christinawood@example.com   45      F   \n",
            "6  61293      Diana      Yates         dianayates@example.org   41      F   \n",
            "7  63470   Jonathan       Byrd       jonathanbyrd@example.com   45      M   \n",
            "8  74653       Lisa     Guzman         lisaguzman@example.org   33      F   \n",
            "9  80628      Scott     Watson        scottwatson@example.com   20      M   \n",
            "\n",
            "  state                     street_address postal_code         city country  \\\n",
            "0   Mie                42882 Michael Drive    513-0836  Suzuka City   Japan   \n",
            "1   Mie                     310 Wade Vista    513-0836  Suzuka City   Japan   \n",
            "2  Acre                  944 Brooks Summit   69917-400   Rio Branco  Brasil   \n",
            "3  Acre                   91068 Wise Trace   69917-400   Rio Branco  Brasil   \n",
            "4  Acre                   3437 Luke Street   69917-400   Rio Branco  Brasil   \n",
            "5  Acre               13561 Campbell Place   69917-400   Rio Branco  Brasil   \n",
            "6  Acre  2888 Jacqueline Squares Suite 940   69917-400   Rio Branco  Brasil   \n",
            "7  Acre          0352 Hughes Land Apt. 275   69917-400   Rio Branco  Brasil   \n",
            "8  Acre                  8095 Gould Center   69917-400   Rio Branco  Brasil   \n",
            "9  Acre         906 Berry Rapids Suite 013   69917-400   Rio Branco  Brasil   \n",
            "\n",
            "       latitude     longitude traffic_source                 created_at  \n",
            "0   34.85181443   136.5087133         Search 2019-04-18 00:20:00.000000  \n",
            "1   34.85181443   136.5087133         Search 2020-10-25 02:43:00.000000  \n",
            "2  -9.945567619  -67.83560991        Display 2021-11-26 12:46:00.000000  \n",
            "3  -9.945567619  -67.83560991         Search 2022-06-08 11:43:00.000000  \n",
            "4  -9.945567619  -67.83560991        Organic 2022-07-18 03:55:00.000000  \n",
            "5  -9.945567619  -67.83560991         Search 2020-12-11 10:06:00.000000  \n",
            "6  -9.945567619  -67.83560991         Search 2023-06-25 13:16:47.826620  \n",
            "7  -9.945567619  -67.83560991         Search 2019-09-26 08:44:00.000000  \n",
            "8  -9.945567619  -67.83560991         Search 2023-01-11 04:30:00.000000  \n",
            "9  -9.945567619  -67.83560991         Search 2019-10-25 04:03:00.000000  \n"
          ]
        }
      ]
    }
  ]
}