{
  "nbformat": 4,
  "nbformat_minor": 0,
  "metadata": {
    "colab": {
      "provenance": [],
      "authorship_tag": "ABX9TyPVQ1etghToPyPxpWnuF4Sa",
      "include_colab_link": true
    },
    "kernelspec": {
      "name": "python3",
      "display_name": "Python 3"
    },
    "language_info": {
      "name": "python"
    }
  },
  "cells": [
    {
      "cell_type": "markdown",
      "metadata": {
        "id": "view-in-github",
        "colab_type": "text"
      },
      "source": [
        "<a href=\"https://colab.research.google.com/github/ljt528/Backend/blob/main/5.12.%EA%B8%88.ipynb\" target=\"_parent\"><img src=\"https://colab.research.google.com/assets/colab-badge.svg\" alt=\"Open In Colab\"/></a>"
      ]
    },
    {
      "cell_type": "markdown",
      "source": [
        "## !! 오늘 배운 것 정리\n",
        "* 애러처리\n",
        "    * Python에서는 애러를 만나면 코드가(서비스가) 멈춥니다.\n",
        "    * 예제\n",
        "        ```python\n",
        "        try:\n",
        "            # 예외가 발생할 가능성이 있는 코드\n",
        "        except:\n",
        "            # 예외 처리 코드\n",
        "        else:\n",
        "            # 예외가 발생하지 않을 때 실행되는 코드\n",
        "        finally:\n",
        "            # 예외 발생 여부와 상관없이 항상 실행되는 코드\n",
        "        ```\n",
        "* 파일입출력\n",
        "    * 열기와 닫기를 동시에\n",
        "    ```python\n",
        "    with open('test.txt', 'w') as f:\n",
        "\t    f.write('Life is too short, you need python')\n",
        "    ```\n",
        "    \n",
        "    * 파일에 추가\n",
        "    ```python\n",
        "    f = open('python.txt', 'a') # 다시 write 모드로 하면 처음부터 덮어 씁니다.\n",
        "    s = ''\n",
        "    for i in range(5, 11):\n",
        "        s += f'{i}명 참여 중입니다. \\n'\n",
        "    f.write(s)\n",
        "    f.close()\n",
        "    ```"
      ],
      "metadata": {
        "id": "BAvm7GM30-vT"
      }
    }
  ]
}