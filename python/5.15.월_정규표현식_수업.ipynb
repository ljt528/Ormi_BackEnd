{
  "nbformat": 4,
  "nbformat_minor": 0,
  "metadata": {
    "colab": {
      "provenance": [],
      "authorship_tag": "ABX9TyN/5RLawdCcVLbUYYvJ7Os+",
      "include_colab_link": true
    },
    "kernelspec": {
      "name": "python3",
      "display_name": "Python 3"
    },
    "language_info": {
      "name": "python"
    }
  },
  "cells": [
    {
      "cell_type": "markdown",
      "metadata": {
        "id": "view-in-github",
        "colab_type": "text"
      },
      "source": [
        "<a href=\"https://colab.research.google.com/github/ljt528/Backend/blob/main/5.15.%EC%9B%94_%EC%A0%95%EA%B7%9C%ED%91%9C%ED%98%84%EC%8B%9D_%EC%88%98%EC%97%85.ipynb\" target=\"_parent\"><img src=\"https://colab.research.google.com/assets/colab-badge.svg\" alt=\"Open In Colab\"/></a>"
      ]
    },
    {
      "cell_type": "markdown",
      "source": [
        "## 정규표현식\n",
        "\n",
        "* Anchors (처음과 끝)\n",
        "    ```\n",
        "    /^hello/gm : 처음에 hello\n",
        "    /hello$/gm : 끝에 hello\n",
        "    ```\n",
        "\n",
        "* dot(모든 문자)\n",
        "    ```\n",
        "    /.ello/gm : hello, Hello, vello\n",
        "    /./gm : 모든 문자열(*과 같은 역할)\n",
        "    /....../gm : 모든 6개의 문자열\n",
        "    ```\n",
        "\n",
        "* 대괄호 (택1)\n",
        "    ```\n",
        "    /h[eay]llo/gm : 대괄호 안에 문자는 문자 1개에 해당!\n",
        "    /h[ea]l../gm : 총 5개의 문자\n",
        "    ```\n",
        "\n",
        "* 대쉬 (범위)\n",
        "    ```\n",
        "    /h[a-f]llo/gm\n",
        "    /[a-zA-Z0-9]/gm : 모든 알파벳과 숫자를 찾음(많이 쓰임!)\n",
        "    /[^a-zA-Z0-9]/gm : 나머지 문자열을 찾음\n",
        "    ```\n",
        "\n",
        "* ^ (부정) : caret, 캐럿 = 대괄호 안에 들어가면 순서 상관없이 부정\n",
        "    ```\n",
        "    아래의 경우 a와 e가 모두 부정\n",
        "    /h[^ae]llo/gm : 대괄호 안에 있다면 not의 의미\n",
        "    ```\n",
        "\n",
        "* 소괄호 (서브패턴. 그룹)\n",
        "    * 패턴으로 외우는 것보다 다양한 예제로 습득하기!\n",
        "    ```\n",
        "    /(on|ues|rida)/gm : 그룹 1로 3개 중 매칭되는 패턴 찾음\n",
        "    ```\n",
        "\n",
        "* 수량자\n",
        "    ```\n",
        "    _* : 앞에 있는 문자가 0개 ~ N개\n",
        "    _+ : 앞에 있는 문자가 1개 ~ N개\n",
        "    _? : 앞에 있는 문자가 0개 ~ 1개\n",
        "\n",
        "    {3} : 3개\n",
        "    {3,} : 3개 이상\n",
        "    {1,3} : 1개 ~ 3개\n",
        "\n",
        "    _* : 앞에 있는 문자가 0개 ~ N개 ({0,})\n",
        "    _+ : 앞에 있는 문자가 1개 ~ N개({1,})\n",
        "    _? : 앞에 있는 문자가 0개 ~ 1개 ({0,1})\n",
        "\n",
        "    /[0-9]{3}[-.* ][0-9]{4}[-.* ][0-9]{4}/gm\n",
        "    /[0-9a-zA-Z]{2,3}[-.* ][0-9]{3,4}[-.* ][0-9]{4}/gm\n",
        "    /[0-9a-zA-Z]+@[0-9a-zA-Z]+.[a-zA-Z]+/gm\n",
        "    ```\n",
        "\n",
        "* 캐릭터클래스\n",
        "    ```\n",
        "    /\\w/gm : 워드\n",
        "    /\\w{5} /gm : 5개의 글자와 스페이스 하나\n",
        "    /\\W/gm : not 워드\n",
        "    /\\d/gm : 숫자\n",
        "    /\\D/gm : not 숫자\n",
        "    /\\s/gm : 스페이스\n",
        "    /\\S/gm : not 스페이스\n",
        "    ```\n",
        "\n",
        "* 전화번호\n",
        "    ```\n",
        "    010[-,. ]?[0-9]{4}[-,. ]?[0-9]{4}\n",
        "    010([-,. ]?[0-9]{4}){2}\n",
        "    ```\n",
        "\n"
      ],
      "metadata": {
        "id": "yaGcS7id1Wat"
      }
    },
    {
      "cell_type": "markdown",
      "source": [
        "* 공식문서 : https://docs.python.org/ko/3/library/re.html"
      ],
      "metadata": {
        "id": "JruQc5C8AoQV"
      }
    },
    {
      "cell_type": "markdown",
      "source": [
        "* 정규표현식에서 자주 사용되는 패턴\n",
        "    * 아래와 같이 2가지 방법으로 사용할 수 있습니다.\n",
        "    ```\n",
        "    카카오 코딩테스트 - 다트문제\n",
        "    # 1\n",
        "    p = re.compile(r'([0-9]|10)([SDT])([\\*\\#]?)')\n",
        "    p.findall('1S2D*3T')\n",
        "\n",
        "    # 2\n",
        "    re.findall(r'([0-9]|10)([SDT])([\\*\\#]?)', '1S2D*3T')\n",
        "    ```\n",
        "    * compile() : 패턴 컴파일\n",
        "    * match() : 문자열의 앞 부분이 매치되는지를 체크, 추출\n",
        "    * sub() : 매치된 부분을 치환 (str의 replace와 같은 역할)\n",
        "    * search() : 선두에 한해서 매치하는지를 체크, 추출\n",
        "    * findall() : 매치된 부분 모두 리스트 반환\n",
        "    * finditer() : 정규식과 매치되는 모든 문자열(substring)을 반복 가능한 객체로 리턴한다.\n",
        "    * spilt() : 정규표현 패턴으로 문자열을 분할 (str의 split과 같은 역할)\n",
        "\n",
        "* 반환 객체의 값\n",
        "    * group() : 매치된 문자열\n",
        "    * groups() : 매치된 문자열 전체\n",
        "    * start() : 매치된 문자열의 시작 위치\n",
        "    * end() : 매치된 문자열의 끝 위치\n",
        "    * span() : 매치된 문자열의 시작과 끝\n",
        "\n",
        "* 컴파일 옵션(플래그)\n",
        "    * 사용 예\n",
        "    ```\n",
        "    re.compile('[a-z]+', re.I)\n",
        "    ```\n",
        "    * re.DOTALL, re.S : 줄바꿈 문자까지 모두 매칭\n",
        "    * re.IGNORECASE, re.I : 대소문자 구분하지 않음\n",
        "    * re.MULTILINE, re.M : ^, & 등의 매칭 패턴을 라인마다 적용\n",
        "    * re.VERBOSE, re.X : 아래와 같이 #으로 주석문을 사용할 수 있음\n",
        "    ```\n",
        "    a = re.compile(r\"\"\"\\d +  # the integral part\n",
        "                   \\.    # the decimal point\n",
        "                   \\d *  # some fractional digits\"\"\", re.X)\n",
        "    b = re.compile(r\"\\d+\\.\\d*\")\n",
        "    ```\n",
        "\n",
        "* tip\n",
        "    * 같은 패턴입니다.\n",
        "    ```\n",
        "    re.compile('\\\\\\\\section')\n",
        "    re.compile(r'\\\\section')\n",
        "    ```\n",
        "    * {}를 표현하고 싶을 때에는 중괄호 2개, 또는 때에 따라 3개가 필요합니다.\n",
        "    ```\n",
        "    re.compile(f'{{section}}')\n",
        "    ```\n"
      ],
      "metadata": {
        "id": "Jvz4qhVRAwkj"
      }
    },
    {
      "cell_type": "code",
      "source": [
        "import re\n",
        "\n",
        "p = re.compile(r'([0-9]|10)([SDT])([\\*\\#]?)')\n",
        "p.findall('1S2D*3T')"
      ],
      "metadata": {
        "colab": {
          "base_uri": "https://localhost:8080/"
        },
        "id": "KHiGqFcYCxHR",
        "outputId": "739f8577-c247-44c0-aa09-4f1ccc5ea9f6"
      },
      "execution_count": 1,
      "outputs": [
        {
          "output_type": "execute_result",
          "data": {
            "text/plain": [
              "[('1', 'S', ''), ('2', 'D', '*'), ('3', 'T', '')]"
            ]
          },
          "metadata": {},
          "execution_count": 1
        }
      ]
    },
    {
      "cell_type": "markdown",
      "source": [
        "## compile"
      ],
      "metadata": {
        "id": "_46wwZX3E2Yb"
      }
    },
    {
      "cell_type": "code",
      "source": [
        "import re\n",
        "\n",
        "p = re.compile('h[eao]llo')"
      ],
      "metadata": {
        "id": "AmO3P1dGFtLB"
      },
      "execution_count": 8,
      "outputs": []
    },
    {
      "cell_type": "code",
      "source": [
        "text = '''hello\n",
        "hallo\n",
        "hollo\n",
        "'''\n",
        "text"
      ],
      "metadata": {
        "id": "OCFhAbS6FQM-",
        "colab": {
          "base_uri": "https://localhost:8080/",
          "height": 35
        },
        "outputId": "de6d1ac1-f596-4476-ad8b-aa47bda8a15d"
      },
      "execution_count": 9,
      "outputs": [
        {
          "output_type": "execute_result",
          "data": {
            "text/plain": [
              "'hello\\nhallo\\nhollo\\n'"
            ],
            "application/vnd.google.colaboratory.intrinsic+json": {
              "type": "string"
            }
          },
          "metadata": {},
          "execution_count": 9
        }
      ]
    },
    {
      "cell_type": "markdown",
      "source": [
        "## match"
      ],
      "metadata": {
        "id": "xhuzomr2FoIz"
      }
    },
    {
      "cell_type": "code",
      "source": [
        "# 실무에서는 특정한 패턴이 존재하는지만 사용하는 것으로 많이 사용합니다.\n",
        "# 찾아서 무언가를 하는 것은 findall이나 sub 이런 메소드를 많이 사용합니다."
      ],
      "metadata": {
        "id": "qvo4us1rHQcx"
      },
      "execution_count": null,
      "outputs": []
    },
    {
      "cell_type": "code",
      "source": [
        "import re\n",
        "\n",
        "p = re.compile('h[eao]llo')\n",
        "p.match('hello hallo hollo hillo hallo')"
      ],
      "metadata": {
        "colab": {
          "base_uri": "https://localhost:8080/"
        },
        "id": "_x-cc-VzFqJa",
        "outputId": "8e093e23-1767-41a2-d2d6-cfc7601435e3"
      },
      "execution_count": 11,
      "outputs": [
        {
          "output_type": "execute_result",
          "data": {
            "text/plain": [
              "<re.Match object; span=(0, 5), match='hello'>"
            ]
          },
          "metadata": {},
          "execution_count": 11
        }
      ]
    },
    {
      "cell_type": "code",
      "source": [
        "result = p.match('hello hallo hollo hillo hallo')\n",
        "result.group(0)\n",
        "# result.group(1)"
      ],
      "metadata": {
        "colab": {
          "base_uri": "https://localhost:8080/",
          "height": 35
        },
        "id": "wRm-7r6CGGv7",
        "outputId": "1bd9fdde-c4a6-41aa-cd39-513ae5ca6912"
      },
      "execution_count": 18,
      "outputs": [
        {
          "output_type": "execute_result",
          "data": {
            "text/plain": [
              "'hello'"
            ],
            "application/vnd.google.colaboratory.intrinsic+json": {
              "type": "string"
            }
          },
          "metadata": {},
          "execution_count": 18
        }
      ]
    },
    {
      "cell_type": "code",
      "source": [
        "import re\n",
        "\n",
        "p = re.compile('(\\w+) (\\w+) (\\w+)')\n",
        "result = p.match('hello hallo hollo hillo hallo')\n",
        "result.group(0) # 전체 그룹\n",
        "result.group(1) # 그룹1\n",
        "result.group(2) # 그룹2\n",
        "result.group(3) # 그룹3\n",
        "result.group(1, 2) # 그룹1, 그룹2"
      ],
      "metadata": {
        "colab": {
          "base_uri": "https://localhost:8080/"
        },
        "id": "OKXYgwLUGmF8",
        "outputId": "e5a09d43-0484-43a1-c174-fb1c74ff6c28"
      },
      "execution_count": 24,
      "outputs": [
        {
          "output_type": "execute_result",
          "data": {
            "text/plain": [
              "('hello', 'hallo')"
            ]
          },
          "metadata": {},
          "execution_count": 24
        }
      ]
    },
    {
      "cell_type": "code",
      "source": [
        "import re\n",
        "\n",
        "p = re.compile('h[eao]llo')\n",
        "p.match('hillo hallo hollo hillo hallo')\n",
        "# None값이 출력된 것 입니다.\n",
        "# 문자열 앞쪽이 매칭이 안된 것입니다."
      ],
      "metadata": {
        "id": "Q4jtfOe7HrCY"
      },
      "execution_count": 25,
      "outputs": []
    },
    {
      "cell_type": "code",
      "source": [
        "# 아래 문법은 match말고도 다른 문법에서도 사용이 가능합니다.\n",
        "m = re.match(r\"(?P<first_name>\\w+) (?P<last_name>\\w+)\", \"Malcolm Reynolds\")\n",
        "m.group('first_name'), m.group('last_name')"
      ],
      "metadata": {
        "colab": {
          "base_uri": "https://localhost:8080/"
        },
        "id": "sZHqOCOOICGB",
        "outputId": "b546c7b0-7661-4cc9-ff74-675f9ac4564c"
      },
      "execution_count": 27,
      "outputs": [
        {
          "output_type": "execute_result",
          "data": {
            "text/plain": [
              "('Malcolm', 'Reynolds')"
            ]
          },
          "metadata": {},
          "execution_count": 27
        }
      ]
    },
    {
      "cell_type": "code",
      "source": [
        "m[0]"
      ],
      "metadata": {
        "colab": {
          "base_uri": "https://localhost:8080/",
          "height": 35
        },
        "id": "klo3voz8Iq4v",
        "outputId": "f7428d8c-7ac1-4993-8f9a-54817e191998"
      },
      "execution_count": 28,
      "outputs": [
        {
          "output_type": "execute_result",
          "data": {
            "text/plain": [
              "'Malcolm Reynolds'"
            ],
            "application/vnd.google.colaboratory.intrinsic+json": {
              "type": "string"
            }
          },
          "metadata": {},
          "execution_count": 28
        }
      ]
    },
    {
      "cell_type": "code",
      "source": [
        "m[1], m[2]"
      ],
      "metadata": {
        "colab": {
          "base_uri": "https://localhost:8080/"
        },
        "id": "7UMgrHC1IsVF",
        "outputId": "acd11f8e-07d6-4a30-e52f-655cbc0fc74a"
      },
      "execution_count": 29,
      "outputs": [
        {
          "output_type": "execute_result",
          "data": {
            "text/plain": [
              "('Malcolm', 'Reynolds')"
            ]
          },
          "metadata": {},
          "execution_count": 29
        }
      ]
    },
    {
      "cell_type": "code",
      "source": [
        "m = re.match(r\"010-(?P<앞자리>[0-9]{4})-(?P<뒷자리>[0-9]{4})\", \"010-1000-2000\")\n",
        "m.group('앞자리'), m.group('뒷자리')"
      ],
      "metadata": {
        "colab": {
          "base_uri": "https://localhost:8080/"
        },
        "id": "gpA6MrAKI0Ud",
        "outputId": "97bae5e4-bca7-4dd1-c2b9-4e9d72c262d1"
      },
      "execution_count": 30,
      "outputs": [
        {
          "output_type": "execute_result",
          "data": {
            "text/plain": [
              "('1000', '2000')"
            ]
          },
          "metadata": {},
          "execution_count": 30
        }
      ]
    },
    {
      "cell_type": "code",
      "source": [
        "# 실제로 실무에서 match가 사용되는 패턴 (공식문서)\n",
        "valid = re.compile(r\"^[a2-9tjqk]{5}$\")\n",
        "\n",
        "def displaymatch(match):\n",
        "    if match is None:\n",
        "        return None\n",
        "    return '해당 패턴에 매칭됩니다!'\n",
        "\n",
        "displaymatch(valid.match(\"akt5q\"))"
      ],
      "metadata": {
        "colab": {
          "base_uri": "https://localhost:8080/",
          "height": 35
        },
        "id": "sMfnwXcoJKJ3",
        "outputId": "5ab31d26-405c-44c9-c954-9db8b3d47fb7"
      },
      "execution_count": 31,
      "outputs": [
        {
          "output_type": "execute_result",
          "data": {
            "text/plain": [
              "'해당 패턴에 매칭됩니다!'"
            ],
            "application/vnd.google.colaboratory.intrinsic+json": {
              "type": "string"
            }
          },
          "metadata": {},
          "execution_count": 31
        }
      ]
    },
    {
      "cell_type": "markdown",
      "source": [
        "## sub"
      ],
      "metadata": {
        "id": "1q4rvxbYJi1s"
      }
    },
    {
      "cell_type": "code",
      "source": [
        "# 문제 링크 https://school.programmers.co.kr/learn/courses/30/lessons/120849"
      ],
      "metadata": {
        "id": "UweUPCicJuj1"
      },
      "execution_count": null,
      "outputs": []
    },
    {
      "cell_type": "code",
      "source": [
        "#1\n",
        "def solution(my_string):\n",
        "    return my_string.replace('a', '').replace('e', '').replace('i', '').replace('o', '').replace('u', '')"
      ],
      "metadata": {
        "id": "GlheZVzdJxB3"
      },
      "execution_count": 33,
      "outputs": []
    },
    {
      "cell_type": "code",
      "source": [
        "#2\n",
        "def solution(my_string):\n",
        "    string = 'aeiou'\n",
        "    for i in string:\n",
        "        my_string = my_string.replace(i, '')\n",
        "    return my_string"
      ],
      "metadata": {
        "id": "zq757SHAKHke"
      },
      "execution_count": 32,
      "outputs": []
    },
    {
      "cell_type": "code",
      "source": [
        "#3\n",
        "import re\n",
        "\n",
        "def solution(my_string):\n",
        "    return re.sub(r\"[aeiou]\", \"\", my_string)"
      ],
      "metadata": {
        "id": "YvdcrmZ2Kdcl"
      },
      "execution_count": null,
      "outputs": []
    },
    {
      "cell_type": "code",
      "source": [
        "#4\n",
        "import re\n",
        "\n",
        "solution = lambda my_string: re.sub(r\"[aeiou]\", \"\", my_string)"
      ],
      "metadata": {
        "id": "NDfXpmJXKn6a"
      },
      "execution_count": null,
      "outputs": []
    },
    {
      "cell_type": "markdown",
      "source": [
        "## 연습문제"
      ],
      "metadata": {
        "id": "qS1JeR8sN8j9"
      }
    },
    {
      "cell_type": "code",
      "source": [
        "# 다음 숫자를 모두 포함하는 정규표현식을 만들어주세요. 참고로 지역번호 들어가야 합니다.\n",
        "# 010-9091-5491\n",
        "# 010-5043-2901\n",
        "# 010-5050-40409\n",
        "# 010 2913 3132\n",
        "# 01019133829\n",
        "# 064-721-3213\n",
        "# 010.1913.3829"
      ],
      "metadata": {
        "id": "oDeQY2qmONZ7"
      },
      "execution_count": null,
      "outputs": []
    },
    {
      "cell_type": "code",
      "source": [
        "010-9091-5491\n",
        "010-5043-2901\n",
        "010-5050-40409\n",
        "010 2913 3132\n",
        "010 1913 3829\n",
        "064-721-3213\n",
        "010.1913.3829"
      ],
      "metadata": {
        "id": "lGLutn6IOT-Z"
      },
      "execution_count": null,
      "outputs": []
    },
    {
      "cell_type": "code",
      "source": [
        "# 1\n",
        "/\\d+[-. ]\\d+[-. ]\\d+/gm"
      ],
      "metadata": {
        "id": "UvJfKNYfR6rd"
      },
      "execution_count": null,
      "outputs": []
    },
    {
      "cell_type": "code",
      "source": [
        "# 2\n",
        "[0-9]{3}([-,. ]?[0-9]{3,5}){2}"
      ],
      "metadata": {
        "id": "DWCqJhBogaVR"
      },
      "execution_count": null,
      "outputs": []
    },
    {
      "cell_type": "code",
      "source": [
        "# 3 - 1\n",
        "import re\n",
        "\n",
        "p = re.compile(r'[0-9]{3}[-. ][0-9]{3,4}[-. ][0-9]{4,5}')"
      ],
      "metadata": {
        "id": "DB3k1pA3RCO1"
      },
      "execution_count": null,
      "outputs": []
    },
    {
      "cell_type": "code",
      "source": [
        "# 3 - 2\n",
        "# 물음표는 0~1개라서 들어가도 맞을 것 같긴 함\n",
        "import re\n",
        "\n",
        "p = re.compile(r'[0-9]{3}[-. ]?[0-9]{3,4}[-. ]?[0-9]{4,5}')"
      ],
      "metadata": {
        "id": "Iti-XXTPU2V0"
      },
      "execution_count": 34,
      "outputs": []
    },
    {
      "cell_type": "code",
      "source": [
        "# 4\n",
        "# 비캡쳐링 ?: 붙여줘야함\n",
        "text = '''010-9091-5491\n",
        "010-5043-2901\n",
        "010-5050-40409\n",
        "010 2913 3132\n",
        "01019133829\n",
        "064-721-3213\n",
        "010.1913.3829\n",
        "'''\n",
        "\n",
        "import re\n",
        "\n",
        "p = re.compile(r'[0-9]{3}(?:[-. ]?[0-9]{3,5}){2}')\n",
        "result = p.findall(text)\n",
        "print(result)"
      ],
      "metadata": {
        "colab": {
          "base_uri": "https://localhost:8080/"
        },
        "id": "AHHYznzFmYwr",
        "outputId": "c5eb07b1-10f1-46e0-97ec-39c59d4d98e4"
      },
      "execution_count": 37,
      "outputs": [
        {
          "output_type": "stream",
          "name": "stdout",
          "text": [
            "['010-9091-5491', '010-5043-2901', '010-5050-40409', '010 2913 3132', '01019133829', '064-721-3213', '010.1913.3829']\n"
          ]
        }
      ]
    },
    {
      "cell_type": "code",
      "source": [],
      "metadata": {
        "id": "UbqYBGsooYw5"
      },
      "execution_count": null,
      "outputs": []
    },
    {
      "cell_type": "code",
      "source": [
        "# 문제 답안\n",
        "import re\n",
        "\n",
        "text = '''010-9091-5491\n",
        "010-5043-2901\n",
        "010-5050-40409\n",
        "010 2913 3132\n",
        "01019133829\n",
        "064-721-3213\n",
        "010.1913.3829'''\n",
        "\n",
        "# 대괄호 안에서는 메타문자 역할을 하는 것은 \\, ^, -, ] 4개!\n",
        "p = re.compile(r'\\d{3}[\\.\\- ]?\\d+[\\.\\- ]?\\d+')\n",
        "p.findall(text)"
      ],
      "metadata": {
        "colab": {
          "base_uri": "https://localhost:8080/"
        },
        "id": "c1obo4BkTELB",
        "outputId": "ef3e4be1-accf-4207-87a1-6192d95e1352"
      },
      "execution_count": null,
      "outputs": [
        {
          "output_type": "execute_result",
          "data": {
            "text/plain": [
              "['010-9091-5491',\n",
              " '010-5043-2901',\n",
              " '010-5050-404092',\n",
              " '010 2913 3132',\n",
              " '01019133829',\n",
              " '064-721-3213',\n",
              " '010.1913.3829']"
            ]
          },
          "metadata": {},
          "execution_count": 58
        }
      ]
    },
    {
      "cell_type": "code",
      "source": [
        "l = re.compile(r'([0-9]{3}.?[0-9]{3,4}.?[0-9]{4,5})')\n",
        "# .? 이 부분에서 모든종류의 문자가 0,1개 라고 읽을 수 있을까요?\n",
        "# 아니면 이런 형식에서 발생할 수 있는 문제가 있을까요?\n",
        "\n",
        "# 문제 내에서는 없습니다. 왜냐하면 지금 휴대폰 뒷자리가 5자리인 것도 허용되게 되어 있거든요. \n",
        "# 만약 실제로 사용하는 코드였다면 자릿수 문제가 생깁니다. \n",
        "# 앞에 3자리 + 1자리 + 4자리 + 1자리 + 5자리로 최대 숫자가 14자리가 올 수 있게 됩니다. \n",
        "# '.'에 숫자가 오는 케이스를 말씀드린 것입니다."
      ],
      "metadata": {
        "id": "Wnz6HcomTeEG"
      },
      "execution_count": null,
      "outputs": []
    },
    {
      "cell_type": "code",
      "source": [
        "text = '''010-9091-5491\n",
        "010  5043  2901\n",
        "'''\n",
        "l = re.compile(r'(0[0-9]{2}.*[0-9]{3,4}.*[0-9]{4,5})')\n",
        "l.findall(text)"
      ],
      "metadata": {
        "colab": {
          "base_uri": "https://localhost:8080/"
        },
        "id": "m5Y_7MMiUubx",
        "outputId": "45fff917-884c-4cdd-bf7f-6991fad2841b"
      },
      "execution_count": null,
      "outputs": [
        {
          "output_type": "execute_result",
          "data": {
            "text/plain": [
              "['010-9091-5491', '010  5043  29012331']"
            ]
          },
          "metadata": {},
          "execution_count": 60
        }
      ]
    },
    {
      "cell_type": "code",
      "source": [
        "text = '''010-9091-5491\n",
        "010  5043  2901\n",
        "'''\n",
        "l = re.compile(r'(0[0-9]{2}[^0-9]*[0-9]{3,4}[^0-9]*[0-9]{4,5})')\n",
        "l.findall(text)"
      ],
      "metadata": {
        "id": "PWjluIUVWHX7"
      },
      "execution_count": null,
      "outputs": []
    },
    {
      "cell_type": "code",
      "source": [
        "# 지섭님의 날카로운 질문!\n",
        "# 대괄호는 이스케이프 처리를 안해줘도 되고 소괄호 이스케이프 처리 해주어야 하는데 이유가 있는지?\n",
        "# 대괄호\n",
        "a = re.compile(r'\\[.*\\]')\n",
        "b = re.compile(r'\\[.*]')\n",
        "c = re.compile(r']')\n",
        "\n",
        "print(a.findall(r'[hello]'))\n",
        "print(b.findall(r'[hello]'))\n",
        "print(c.findall(r']'))\n",
        "\n",
        "# 소괄호\n",
        "d = re.compile(r'\\(.*\\)')\n",
        "# e = re.compile(r'\\(.*)') # error\n",
        "# f = re.compile(r')') # error\n",
        "\n",
        "print(d.findall(r'(hello)'))\n",
        "# print(e.findall(r'(hello)')) # error\n",
        "# print(f.findall(r')')) # error"
      ],
      "metadata": {
        "colab": {
          "base_uri": "https://localhost:8080/"
        },
        "id": "ojwsHpw3WVcw",
        "outputId": "c0ebf02d-2367-495f-f5a7-e92182a734ff"
      },
      "execution_count": null,
      "outputs": [
        {
          "output_type": "stream",
          "name": "stdout",
          "text": [
            "['[hello]']\n",
            "['[hello]']\n",
            "[']']\n",
            "['(hello)']\n"
          ]
        }
      ]
    },
    {
      "cell_type": "code",
      "source": [
        "# 오답\n",
        "import re\n",
        "\n",
        "text = '''010-9091-5491\n",
        "010-5043-2901\n",
        "010-5050-40409\n",
        "010 2913 3132\n",
        "01019133829\n",
        "064-721-3213\n",
        "010.1913.3829'''\n",
        "\n",
        "p = re.compile(r'.')\n",
        "p.findall(text)"
      ],
      "metadata": {
        "id": "F0EkXraXefzC"
      },
      "execution_count": null,
      "outputs": []
    },
    {
      "cell_type": "code",
      "source": [
        "# 왜 괄호 처리 못해주나요?\n",
        "# 대괄호\n",
        "p = re.compile(r'\\[.*\\]')\n",
        "p.findall(r'[hello] [hello] [hello] [hello] [hello] [hello]')"
      ],
      "metadata": {
        "colab": {
          "base_uri": "https://localhost:8080/"
        },
        "id": "Q0ViIcPgf9VO",
        "outputId": "fb63c3cf-41e6-4c85-9182-dcbf7b57f4a8"
      },
      "execution_count": null,
      "outputs": [
        {
          "output_type": "execute_result",
          "data": {
            "text/plain": [
              "['[hello] [hello] [hello] [hello] [hello] [hello]']"
            ]
          },
          "metadata": {},
          "execution_count": 76
        }
      ]
    },
    {
      "cell_type": "code",
      "source": [
        "p = re.compile(r'\\[hello\\]')\n",
        "p.findall(r'[hello] [hello] [hello] [hello] [hello] [hello]')"
      ],
      "metadata": {
        "colab": {
          "base_uri": "https://localhost:8080/"
        },
        "id": "_y002KY7gigX",
        "outputId": "b6d34fa6-e738-43e7-acd5-511d2f7de88c"
      },
      "execution_count": null,
      "outputs": [
        {
          "output_type": "execute_result",
          "data": {
            "text/plain": [
              "['[hello]', '[hello]', '[hello]', '[hello]', '[hello]', '[hello]']"
            ]
          },
          "metadata": {},
          "execution_count": 77
        }
      ]
    },
    {
      "cell_type": "code",
      "source": [
        "p = re.compile(r'\\[\\w+\\]')\n",
        "p.findall(r'[hello] [hello] [hello] [hello] [hello] [hello]')"
      ],
      "metadata": {
        "colab": {
          "base_uri": "https://localhost:8080/"
        },
        "id": "dQyDfEHbgraD",
        "outputId": "45023c2b-01ab-44ce-9866-878fbbc529f0"
      },
      "execution_count": null,
      "outputs": [
        {
          "output_type": "execute_result",
          "data": {
            "text/plain": [
              "['[hello]', '[hello]', '[hello]', '[hello]', '[hello]', '[hello]']"
            ]
          },
          "metadata": {},
          "execution_count": 78
        }
      ]
    },
    {
      "cell_type": "code",
      "source": [
        "# 질문 : 자릿수 넘어가는 것은 어떻게 되나요?\n",
        "# 답 : 잘립니다.\n",
        "import re\n",
        "\n",
        "text = '''010-9091-5491\n",
        "010.1913.382900000000000000'''\n",
        "\n",
        "p = re.compile(r'\\d{3}[-. ]\\d{4}[-. ]\\d{4}')\n",
        "p.findall(text)"
      ],
      "metadata": {
        "colab": {
          "base_uri": "https://localhost:8080/"
        },
        "id": "kEK265ukhhGC",
        "outputId": "8f2501f4-270f-489a-a96c-e725c0161f78"
      },
      "execution_count": null,
      "outputs": [
        {
          "output_type": "execute_result",
          "data": {
            "text/plain": [
              "['010-9091-5491', '010.1913.3829']"
            ]
          },
          "metadata": {},
          "execution_count": 79
        }
      ]
    },
    {
      "cell_type": "code",
      "source": [
        "import re\n",
        "\n",
        "def markdown_to_html(markdown):\n",
        "    html = re.sub(r'#(.*?)', r'<h1>\\1</h1>', markdown)\n",
        "    html = re.sub(r'##(.*?)', r'<h2>\\1</h2>', markdown)\n",
        "    html = re.sub(r'###(.*?)', r'<h3>\\1</h3>', markdown)\n",
        "    return html\n",
        "\n",
        "md = '''# hello world\n",
        "hi\n",
        "## hello world\n",
        "hi\n",
        "### hello world\n",
        "hi\n",
        "'''\n",
        "\n",
        "markdown_to_html(md)"
      ],
      "metadata": {
        "colab": {
          "base_uri": "https://localhost:8080/",
          "height": 35
        },
        "id": "qDrMdQPhkdGo",
        "outputId": "7387e5c2-634a-4472-f323-e20abdd5f6ba"
      },
      "execution_count": null,
      "outputs": [
        {
          "output_type": "execute_result",
          "data": {
            "text/plain": [
              "'# hello world\\nhi\\n## hello world\\nhi\\n<h3></h3> hello world\\nhi\\n'"
            ],
            "application/vnd.google.colaboratory.intrinsic+json": {
              "type": "string"
            }
          },
          "metadata": {},
          "execution_count": 85
        }
      ]
    }
  ]
}