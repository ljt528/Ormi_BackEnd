{
  "nbformat": 4,
  "nbformat_minor": 0,
  "metadata": {
    "colab": {
      "provenance": [],
      "authorship_tag": "ABX9TyNemqL9XzRveYrcQBvND41B",
      "include_colab_link": true
    },
    "kernelspec": {
      "name": "python3",
      "display_name": "Python 3"
    },
    "language_info": {
      "name": "python"
    }
  },
  "cells": [
    {
      "cell_type": "markdown",
      "metadata": {
        "id": "view-in-github",
        "colab_type": "text"
      },
      "source": [
        "<a href=\"https://colab.research.google.com/github/ljt528/Backend/blob/main/5.4.%EB%AA%A9.ipynb\" target=\"_parent\"><img src=\"https://colab.research.google.com/assets/colab-badge.svg\" alt=\"Open In Colab\"/></a>"
      ]
    },
    {
      "cell_type": "markdown",
      "source": [
        "## 깊은 복사와 얕은 복사"
      ],
      "metadata": {
        "id": "GtojyGhjW-_G"
      }
    },
    {
      "cell_type": "code",
      "source": [
        "# 아무런 복사도 이뤄지지 않은 상태\n",
        "l = [[1, 2, 3], [4, 5, 6]]\n",
        "ll = l\n",
        "ll[0]= 10\n",
        "l, ll"
      ],
      "metadata": {
        "colab": {
          "base_uri": "https://localhost:8080/"
        },
        "id": "qTVWXHp9WN3G",
        "outputId": "e0504fc6-60e7-488f-d61f-e2fec548f5ba"
      },
      "execution_count": null,
      "outputs": [
        {
          "output_type": "execute_result",
          "data": {
            "text/plain": [
              "([10, [4, 5, 6]], [10, [4, 5, 6]])"
            ]
          },
          "metadata": {},
          "execution_count": 46
        }
      ]
    },
    {
      "cell_type": "code",
      "source": [
        "# 얕은 복사\n",
        "l = [1000, 2000, 3000, 4000, 5000, 6000]\n",
        "ll = l.copy()\n",
        "ll[0]= 10\n",
        "l, ll"
      ],
      "metadata": {
        "colab": {
          "base_uri": "https://localhost:8080/"
        },
        "id": "zQ_JXWgjW0Ii",
        "outputId": "6454e037-60de-4cb8-c038-de8a28c2cb19"
      },
      "execution_count": null,
      "outputs": [
        {
          "output_type": "execute_result",
          "data": {
            "text/plain": [
              "([1, 2, 3, 4, 5, 6], [10, 2, 3, 4, 5, 6])"
            ]
          },
          "metadata": {},
          "execution_count": 49
        }
      ]
    },
    {
      "cell_type": "code",
      "source": [
        "l = [1000, 2000, 3000, 1000, 1000, 1000]\n",
        "id(l[0]), id(l[4]), id(l[5])"
      ],
      "metadata": {
        "colab": {
          "base_uri": "https://localhost:8080/"
        },
        "id": "cNv8nUjxX6s5",
        "outputId": "2105cf77-6a2b-4ab9-ca83-895becd4617f"
      },
      "execution_count": null,
      "outputs": [
        {
          "output_type": "execute_result",
          "data": {
            "text/plain": [
              "(139660894457680, 139660894457680, 139660894457680)"
            ]
          },
          "metadata": {},
          "execution_count": 52
        }
      ]
    },
    {
      "cell_type": "code",
      "source": [
        "# 얕은 복사\n",
        "l = [1000, 2000, 3000, 4000, 5000, 6000]\n",
        "ll = l.copy()\n",
        "id(l[0]), id(ll[0]) # 같은 값이 나오니까 같은 객체를 가리키고 있다?"
      ],
      "metadata": {
        "colab": {
          "base_uri": "https://localhost:8080/"
        },
        "id": "OI9dU45UXAVw",
        "outputId": "a1f6a182-04cc-4104-82c1-e26ef2e8a308"
      },
      "execution_count": null,
      "outputs": [
        {
          "output_type": "execute_result",
          "data": {
            "text/plain": [
              "(139662142685424, 139662142685424)"
            ]
          },
          "metadata": {},
          "execution_count": 50
        }
      ]
    },
    {
      "cell_type": "code",
      "source": [
        "# 얕은 복사\n",
        "l = [1000, 2000, 3000, 4000, 5000, 6000]\n",
        "ll = l.copy()\n",
        "id(l), id(ll)"
      ],
      "metadata": {
        "colab": {
          "base_uri": "https://localhost:8080/"
        },
        "id": "byy_qybZXN2p",
        "outputId": "3643e81b-c2e1-4a97-91a6-59c2d7d9c24a"
      },
      "execution_count": null,
      "outputs": [
        {
          "output_type": "execute_result",
          "data": {
            "text/plain": [
              "(139660894985280, 139660894399168)"
            ]
          },
          "metadata": {},
          "execution_count": 51
        }
      ]
    },
    {
      "cell_type": "code",
      "source": [
        "# 얕은 복사\n",
        "l = [[1, 2, 3], [4, 5, 6]]\n",
        "ll = l.copy()\n",
        "ll[0][0] = 10\n",
        "l, ll"
      ],
      "metadata": {
        "colab": {
          "base_uri": "https://localhost:8080/"
        },
        "id": "IZIWjY8pWnEO",
        "outputId": "c02bcf55-74f6-4453-91df-3eabe6cfd498"
      },
      "execution_count": null,
      "outputs": [
        {
          "output_type": "execute_result",
          "data": {
            "text/plain": [
              "([[10, 2, 3], [4, 5, 6]], [[10, 2, 3], [4, 5, 6]])"
            ]
          },
          "metadata": {},
          "execution_count": 53
        }
      ]
    },
    {
      "cell_type": "code",
      "source": [
        "id(l[0]), id(ll[0])"
      ],
      "metadata": {
        "colab": {
          "base_uri": "https://localhost:8080/"
        },
        "id": "sGa3rJ85YgdV",
        "outputId": "60419ad6-e25e-4232-f073-134f36d12f61"
      },
      "execution_count": null,
      "outputs": [
        {
          "output_type": "execute_result",
          "data": {
            "text/plain": [
              "(139661113241472, 139661113241472)"
            ]
          },
          "metadata": {},
          "execution_count": 54
        }
      ]
    },
    {
      "cell_type": "code",
      "source": [
        "# 얕은 복사\n",
        "l = [[1, 2, 3], [4, 5, 6]]\n",
        "ll = l.copy()\n",
        "ll[0]= 100\n",
        "l, ll"
      ],
      "metadata": {
        "colab": {
          "base_uri": "https://localhost:8080/"
        },
        "id": "pKDLuPpYY98x",
        "outputId": "7ebcdd6b-4230-4496-fdf9-fd7a04de8789"
      },
      "execution_count": null,
      "outputs": [
        {
          "output_type": "execute_result",
          "data": {
            "text/plain": [
              "([[1, 2, 3], [4, 5, 6]], [100, [4, 5, 6]])"
            ]
          },
          "metadata": {},
          "execution_count": 55
        }
      ]
    },
    {
      "cell_type": "code",
      "source": [
        "# 깊은 복사\n",
        "import copy\n",
        "\n",
        "l = [[1, 2, 3], [4, 5, 6]]\n",
        "ll = copy.deepcopy(l)\n",
        "ll[0][0] = 10\n",
        "l, ll\n",
        "id(l[0]), id(ll[0])\n",
        "id(l[0][0]), id(ll[0][0])"
      ],
      "metadata": {
        "colab": {
          "base_uri": "https://localhost:8080/"
        },
        "id": "B62vau-SZBr7",
        "outputId": "49e7e781-c940-49b2-f49a-6f7ab02a3e7d"
      },
      "execution_count": null,
      "outputs": [
        {
          "output_type": "execute_result",
          "data": {
            "text/plain": [
              "(139662142685424, 139662142685712)"
            ]
          },
          "metadata": {},
          "execution_count": 58
        }
      ]
    },
    {
      "cell_type": "code",
      "source": [
        "# 깊은 복사\n",
        "import copy\n",
        "\n",
        "l = [[1, 2, [1, [999, 998]]], [4, 5, 6]]\n",
        "ll = copy.deepcopy(l)\n",
        "ll[0][0] = 10"
      ],
      "metadata": {
        "id": "wg80R9RcZraQ"
      },
      "execution_count": null,
      "outputs": []
    },
    {
      "cell_type": "markdown",
      "source": [
        "* 얕은 복사는 1 계층만 복사합니다.\n",
        "* 깊은 복사는 n 계층까지 모두 복사합니다."
      ],
      "metadata": {
        "id": "p2v-razBaPV2"
      }
    },
    {
      "cell_type": "markdown",
      "source": [
        "* 나를 이해시키는 단 하나의 코드는 반드시 존재합니다."
      ],
      "metadata": {
        "id": "HtYrw9MVajrN"
      }
    },
    {
      "cell_type": "code",
      "source": [
        "# 얕은 복사\n",
        "l = [[1, 2, 3], [4, 5, 6]]\n",
        "ll =  l[:]\n",
        "l[0] = 100\n",
        "l, ll"
      ],
      "metadata": {
        "colab": {
          "base_uri": "https://localhost:8080/"
        },
        "id": "FxGw7e1CaxVy",
        "outputId": "cb6fc06e-9b05-4f35-e445-03cfd35aec5e"
      },
      "execution_count": null,
      "outputs": [
        {
          "output_type": "execute_result",
          "data": {
            "text/plain": [
              "([100, [4, 5, 6]], [[1, 2, 3], [4, 5, 6]])"
            ]
          },
          "metadata": {},
          "execution_count": 59
        }
      ]
    },
    {
      "cell_type": "code",
      "source": [
        "# sorted도 얕은 복사!\n",
        "l = [[1, 2],[3, 4]], [5, 6]\n",
        "ll = sorted(l)\n",
        "l[0][0] = 100\n",
        "l, ll"
      ],
      "metadata": {
        "id": "0xrm46GKffBw"
      },
      "execution_count": null,
      "outputs": []
    },
    {
      "cell_type": "code",
      "source": [
        "# 얕은 복사\n",
        "# 리스트 컴프리헨션은 안배운 내용이니 keep해두시고\n",
        "# for문을 배운 다음 다시 오셔서 복습하시기를 권해드립니다.\n",
        "l = [[1, 2, 3], [4, 5, 6]]\n",
        "ll =  l[:] # l.copy를 써도 마찬가지입니다.\n",
        "l[0][0] = 100\n",
        "l, ll"
      ],
      "metadata": {
        "colab": {
          "base_uri": "https://localhost:8080/"
        },
        "id": "yZmquvFEbaHY",
        "outputId": "81af8d33-2a22-4a3e-82ad-5a63bc7e6539"
      },
      "execution_count": null,
      "outputs": [
        {
          "output_type": "execute_result",
          "data": {
            "text/plain": [
              "([[100, 2, 3], [4, 5, 6]], [[100, 2, 3], [4, 5, 6]])"
            ]
          },
          "metadata": {},
          "execution_count": 60
        }
      ]
    },
    {
      "cell_type": "code",
      "source": [
        "# 얕은 복사\n",
        "# 리스트 컴프리헨션은 안배운 내용이니 keep해두시고\n",
        "# for문을 배운 다음 다시 오셔서 복습하시기를 권해드립니다.\n",
        "l = [[1, 2, 3], [4, 5, 6]]\n",
        "ll =  [i for i in l]\n",
        "l[0][0] = 100\n",
        "l, ll"
      ],
      "metadata": {
        "colab": {
          "base_uri": "https://localhost:8080/"
        },
        "id": "tBslfso-bxRN",
        "outputId": "50021f97-3476-4524-bdf8-f2384dcf6145"
      },
      "execution_count": null,
      "outputs": [
        {
          "output_type": "execute_result",
          "data": {
            "text/plain": [
              "([[100, 2, 3], [4, 5, 6]], [[100, 2, 3], [4, 5, 6]])"
            ]
          },
          "metadata": {},
          "execution_count": 61
        }
      ]
    },
    {
      "cell_type": "code",
      "source": [
        "# 1단계 깊은 복사\n",
        "# 리스트 컴프리헨션은 안배운 내용이니 keep해두시고\n",
        "# for문 배운다음 다시 오셔서 복습하시기를 권해드립니다.\n",
        "l = [[1, 2, 3], [4, 5, 6]]\n",
        "ll = [i[:] for i in l]\n",
        "l[0][0] = 100\n",
        "l, ll"
      ],
      "metadata": {
        "colab": {
          "base_uri": "https://localhost:8080/"
        },
        "id": "WN6A76d5b3AO",
        "outputId": "b6fd5d1a-9034-4544-d977-cfad479d91a0"
      },
      "execution_count": null,
      "outputs": [
        {
          "output_type": "execute_result",
          "data": {
            "text/plain": [
              "([[100, 2, 3], [4, 5, 6]], [[1, 2, 3], [4, 5, 6]])"
            ]
          },
          "metadata": {},
          "execution_count": 62
        }
      ]
    },
    {
      "cell_type": "markdown",
      "source": [
        "## 다차원 리스트"
      ],
      "metadata": {
        "id": "S1By48UNcev7"
      }
    },
    {
      "cell_type": "code",
      "source": [
        "a = [[1, 2, 3],\n",
        "     [11, 22, 33],\n",
        "     ['leehojun', 20, 30]]\n",
        "\n",
        "# 문제 : jun만 뽑아주세요!\n",
        "print(a[2][0][-3:])\n",
        "print(a[2][0][5:])\n",
        "print(a[2][0][5], a[2][0][6], a[2][0][7], sep='')"
      ],
      "metadata": {
        "colab": {
          "base_uri": "https://localhost:8080/"
        },
        "id": "xw5VOpWjcgqY",
        "outputId": "29e44468-ae48-4db1-9cc8-a75d31841e0a"
      },
      "execution_count": null,
      "outputs": [
        {
          "output_type": "stream",
          "name": "stdout",
          "text": [
            "jun\n",
            "jun\n",
            "jun\n"
          ]
        }
      ]
    },
    {
      "cell_type": "markdown",
      "source": [
        "## 리스트에서 built-in function을 활용"
      ],
      "metadata": {
        "id": "emFcHkGUgOcv"
      }
    },
    {
      "cell_type": "markdown",
      "source": [
        "* 알아야 하는 built-in function\n",
        "\n",
        "```\n",
        "A\n",
        "abs()\n",
        "all()\n",
        "any()\n",
        "\n",
        "B\n",
        "bin()\n",
        "bool()\n",
        "\n",
        "C\n",
        "chr()\n",
        "\n",
        "D\n",
        "dict()\n",
        "dir()\n",
        "\n",
        "E\n",
        "enumerate()\n",
        "eval()\n",
        "\n",
        "F\n",
        "filter()\n",
        "float()\n",
        "\n",
        "G\n",
        "globals()\n",
        "\n",
        "H\n",
        "help()\n",
        "hex()\n",
        "\n",
        "I\n",
        "id()\n",
        "input()\n",
        "int()\n",
        "isinstance()\n",
        "issubclass()\n",
        "iter()\n",
        "\n",
        "L\n",
        "len()\n",
        "list()\n",
        "locals()\n",
        "\n",
        "M\n",
        "map()\n",
        "max()\n",
        "min()\n",
        "\n",
        "N\n",
        "next()\n",
        "\n",
        "O\n",
        "object()\n",
        "oct()\n",
        "open()\n",
        "ord()\n",
        "\n",
        "P\n",
        "pow()\n",
        "print()\n",
        "property()\n",
        "\n",
        "R\n",
        "range()\n",
        "repr()\n",
        "reversed()\n",
        "round()\n",
        "\n",
        "S\n",
        "set()\n",
        "setattr()\n",
        "slice()\n",
        "sorted()\n",
        "staticmethod()\n",
        "str()\n",
        "sum()\n",
        "super()\n",
        "\n",
        "T\n",
        "tuple()\n",
        "type()\n",
        "\n",
        "V\n",
        "vars()\n",
        "\n",
        "Z\n",
        "zip()\n",
        "```"
      ],
      "metadata": {
        "id": "YBP7tOdag-rx"
      }
    },
    {
      "cell_type": "code",
      "source": [
        "a = [1, 2, 3, 4, 5, 6, 7, 8]\n",
        "print(max(a)) #최댓값\n",
        "print(min(a)) #최솟값\n",
        "print(sum(a)) #전체값의 합"
      ],
      "metadata": {
        "colab": {
          "base_uri": "https://localhost:8080/"
        },
        "id": "OgfCCxtWgQSt",
        "outputId": "dfbab039-2f11-4842-e44c-33e45bf0335e"
      },
      "execution_count": null,
      "outputs": [
        {
          "output_type": "stream",
          "name": "stdout",
          "text": [
            "8\n",
            "1\n",
            "36\n"
          ]
        }
      ]
    },
    {
      "cell_type": "code",
      "source": [
        "#2차원\n",
        "a = [[1, 2, 3, 'a'],\n",
        "     [11, 22, 33, 'aaa'],\n",
        "     [10, 2000, 30, 'aa']]\n",
        "\n",
        "max(a, key=lambda x:x[1])"
      ],
      "metadata": {
        "colab": {
          "base_uri": "https://localhost:8080/"
        },
        "id": "kUcTrRwWiFPJ",
        "outputId": "82b889d3-01fb-4d16-fbdf-7caa88527824"
      },
      "execution_count": null,
      "outputs": [
        {
          "output_type": "execute_result",
          "data": {
            "text/plain": [
              "[10, 2000, 30, 'aa']"
            ]
          },
          "metadata": {},
          "execution_count": 78
        }
      ]
    },
    {
      "cell_type": "code",
      "source": [
        "#2차원\n",
        "a = [[1, 2, 3, 'a'],\n",
        "     [11, 22, 33, 'aaa'],\n",
        "     [10, 2000, 30, 'aa']]\n",
        "\n",
        "max(a, key=lambda x:len(x[3]))"
      ],
      "metadata": {
        "colab": {
          "base_uri": "https://localhost:8080/"
        },
        "id": "4MUGTxaxiYGt",
        "outputId": "7ec7c358-6f9d-4fc8-9c9d-ec73e885c42e"
      },
      "execution_count": null,
      "outputs": [
        {
          "output_type": "execute_result",
          "data": {
            "text/plain": [
              "[11, 22, 33, 'aaa']"
            ]
          },
          "metadata": {},
          "execution_count": 79
        }
      ]
    },
    {
      "cell_type": "code",
      "source": [
        "# 이름, 별점, 객실수, 가격\n",
        "호텔 = [\n",
        "    ['이스트소프트 호텔', 5, 100, 155000],\n",
        "    ['삼스트소프트 호텔', 4, 80, 145000],\n",
        "    ['사스트소프트 호텔', 3, 70, 135000],\n",
        "    # 마지막에 콤마를 허락하는 언어는 제한적 (특히 JSON에서는 엄격해서 허락하지 않습니다.)\n",
        "]\n",
        "\n",
        "max(호텔, key=lambda x:x[3]) # 가장 가격이 높은 것을 뽑아낼 수 있음\n",
        "min(호텔, key=lambda x:x[3]) # 가장 가격이 낮은 것을 뽑아낼 수 있음"
      ],
      "metadata": {
        "colab": {
          "base_uri": "https://localhost:8080/"
        },
        "id": "oNT4dqvFic-m",
        "outputId": "12d8f7b9-de76-43b5-ef97-e8c7838ca320"
      },
      "execution_count": null,
      "outputs": [
        {
          "output_type": "execute_result",
          "data": {
            "text/plain": [
              "['사스트소프트 호텔', 3, 70, 135000]"
            ]
          },
          "metadata": {},
          "execution_count": 80
        }
      ]
    },
    {
      "cell_type": "code",
      "source": [
        "#2차원\n",
        "a = [[1, 2, 3],\n",
        "     [11, 22, 33],\n",
        "     [10, 2000, 30]]\n",
        "\n",
        "max(a, key=lambda x:x[1])\n",
        "min(a, key=lambda x:x[1])\n",
        "# sum(a) error\n",
        "sum(a, [])"
      ],
      "metadata": {
        "colab": {
          "base_uri": "https://localhost:8080/"
        },
        "id": "9lFRyxjqhyz8",
        "outputId": "21dd8ffa-62cd-448d-c87d-c047cc480738"
      },
      "execution_count": null,
      "outputs": [
        {
          "output_type": "execute_result",
          "data": {
            "text/plain": [
              "[1, 2, 3, 11, 22, 33, 10, 2000, 30]"
            ]
          },
          "metadata": {},
          "execution_count": 74
        }
      ]
    },
    {
      "cell_type": "markdown",
      "source": [
        "## 리스트의 순회"
      ],
      "metadata": {
        "id": "0tuAN8pRkXQl"
      }
    },
    {
      "cell_type": "code",
      "source": [
        "#1차원\n",
        "a = [1, 2, 3, 4, 5, 6, 7, 8]\n",
        "\n",
        "# for 변수 in 순회가능한 객체\n",
        "for i in a:\n",
        "     print(i)"
      ],
      "metadata": {
        "colab": {
          "base_uri": "https://localhost:8080/"
        },
        "id": "QQ7X0H7NkZmq",
        "outputId": "da771235-06fd-46be-b7b1-72258b6fcb85"
      },
      "execution_count": null,
      "outputs": [
        {
          "output_type": "stream",
          "name": "stdout",
          "text": [
            "1\n",
            "2\n",
            "3\n",
            "4\n",
            "5\n",
            "6\n",
            "7\n",
            "8\n"
          ]
        }
      ]
    },
    {
      "cell_type": "code",
      "source": [
        "#2차원\n",
        "a = [[1, 2, 3],\n",
        "     [11, 22, 33],\n",
        "     [13, 20000, 300000]]\n",
        "\n",
        "for i in a:\n",
        "    print(i)\n",
        "    print('---')\n",
        "print('end')"
      ],
      "metadata": {
        "colab": {
          "base_uri": "https://localhost:8080/"
        },
        "id": "cWhAmzXukvI3",
        "outputId": "286efdfd-795f-4306-f3ea-f6239481d63b"
      },
      "execution_count": null,
      "outputs": [
        {
          "output_type": "stream",
          "name": "stdout",
          "text": [
            "[1, 2, 3]\n",
            "---\n",
            "[11, 22, 33]\n",
            "---\n",
            "[13, 20000, 300000]\n",
            "---\n",
            "end\n"
          ]
        }
      ]
    },
    {
      "cell_type": "code",
      "source": [
        "#2차원\n",
        "a = [[1, 2, 3],\n",
        "     [11, 22, 33],\n",
        "     [13, 20000, 300000]]\n",
        "\n",
        "for i in a:\n",
        "    for j in i:\n",
        "        print(j)\n",
        "    print('---')\n",
        "print('end')"
      ],
      "metadata": {
        "colab": {
          "base_uri": "https://localhost:8080/"
        },
        "id": "IZGrmhVJlY5p",
        "outputId": "97ee2205-6d80-4c17-d900-a238887c1d84"
      },
      "execution_count": null,
      "outputs": [
        {
          "output_type": "stream",
          "name": "stdout",
          "text": [
            "1\n",
            "2\n",
            "3\n",
            "---\n",
            "11\n",
            "22\n",
            "33\n",
            "---\n",
            "13\n",
            "20000\n",
            "300000\n",
            "---\n",
            "end\n"
          ]
        }
      ]
    },
    {
      "cell_type": "markdown",
      "source": [
        "## range"
      ],
      "metadata": {
        "id": "wDznSMHpm26H"
      }
    },
    {
      "cell_type": "code",
      "source": [
        "# range(start, stop, step)\n",
        "# 슬라이싱과 같은 규칙\n",
        "# 슬라이싱은 ':'(콜론)으로 연결되어 있고\n",
        "# range는 ','(콤마)로 연결되어 있습니다.\n",
        "\n",
        "print(list(range(100)))\n",
        "#python 2.x에서 python 3.x에 range를 사용하고 싶다면 xrange(10)를 사용\n",
        "print(list(range(5, 10)))\n",
        "print(list(range(0, 101, 2))) #짝수\n",
        "print(list(range(1, 101, 2))) #홀수\n",
        "print(list(range(100, 1, -2)))\n",
        "print(sum(list(range(0, 101)))) # 리소스 낭비\n",
        "print(sum(range(0, 101))) # 이렇게 형 변환을 하지 않고 sum해야 함."
      ],
      "metadata": {
        "colab": {
          "base_uri": "https://localhost:8080/"
        },
        "id": "08RJ55ymnHDy",
        "outputId": "1ba29474-c7c3-459a-8309-27f3da8cf7d3"
      },
      "execution_count": null,
      "outputs": [
        {
          "output_type": "stream",
          "name": "stdout",
          "text": [
            "[0, 1, 2, 3, 4, 5, 6, 7, 8, 9, 10, 11, 12, 13, 14, 15, 16, 17, 18, 19, 20, 21, 22, 23, 24, 25, 26, 27, 28, 29, 30, 31, 32, 33, 34, 35, 36, 37, 38, 39, 40, 41, 42, 43, 44, 45, 46, 47, 48, 49, 50, 51, 52, 53, 54, 55, 56, 57, 58, 59, 60, 61, 62, 63, 64, 65, 66, 67, 68, 69, 70, 71, 72, 73, 74, 75, 76, 77, 78, 79, 80, 81, 82, 83, 84, 85, 86, 87, 88, 89, 90, 91, 92, 93, 94, 95, 96, 97, 98, 99]\n",
            "[5, 6, 7, 8, 9]\n",
            "[0, 2, 4, 6, 8, 10, 12, 14, 16, 18, 20, 22, 24, 26, 28, 30, 32, 34, 36, 38, 40, 42, 44, 46, 48, 50, 52, 54, 56, 58, 60, 62, 64, 66, 68, 70, 72, 74, 76, 78, 80, 82, 84, 86, 88, 90, 92, 94, 96, 98, 100]\n",
            "[1, 3, 5, 7, 9, 11, 13, 15, 17, 19, 21, 23, 25, 27, 29, 31, 33, 35, 37, 39, 41, 43, 45, 47, 49, 51, 53, 55, 57, 59, 61, 63, 65, 67, 69, 71, 73, 75, 77, 79, 81, 83, 85, 87, 89, 91, 93, 95, 97, 99]\n",
            "[100, 98, 96, 94, 92, 90, 88, 86, 84, 82, 80, 78, 76, 74, 72, 70, 68, 66, 64, 62, 60, 58, 56, 54, 52, 50, 48, 46, 44, 42, 40, 38, 36, 34, 32, 30, 28, 26, 24, 22, 20, 18, 16, 14, 12, 10, 8, 6, 4, 2]\n",
            "5050\n",
            "5050\n"
          ]
        }
      ]
    },
    {
      "cell_type": "markdown",
      "source": [
        "## list comprehension"
      ],
      "metadata": {
        "id": "zyULIivTpT5V"
      }
    },
    {
      "cell_type": "code",
      "source": [
        "# l = [1, 2, 3, 4, ...]\n",
        "# list(range(1, 101))\n",
        "l = []\n",
        "for i in range(1, 101):\n",
        "    l.append(i)\n",
        "l"
      ],
      "metadata": {
        "id": "2-eZumQxpe29"
      },
      "execution_count": null,
      "outputs": []
    },
    {
      "cell_type": "code",
      "source": [
        "l = []\n",
        "for i in range(1, 11):\n",
        "    l.append(i ** i)\n",
        "l"
      ],
      "metadata": {
        "colab": {
          "base_uri": "https://localhost:8080/"
        },
        "id": "F2WpFYq4p94V",
        "outputId": "bb9ad1f2-2992-495c-f09d-59e0a6279968"
      },
      "execution_count": null,
      "outputs": [
        {
          "output_type": "execute_result",
          "data": {
            "text/plain": [
              "[1, 4, 27, 256, 3125, 46656, 823543, 16777216, 387420489, 10000000000]"
            ]
          },
          "metadata": {},
          "execution_count": 101
        }
      ]
    },
    {
      "cell_type": "code",
      "source": [
        "l = [i ** i for i in range(1, 11)]\n",
        "l"
      ],
      "metadata": {
        "colab": {
          "base_uri": "https://localhost:8080/"
        },
        "id": "YxLf6FG4qL93",
        "outputId": "57e78a19-9a18-47da-ffd3-6f5d09152d15"
      },
      "execution_count": null,
      "outputs": [
        {
          "output_type": "execute_result",
          "data": {
            "text/plain": [
              "[1, 4, 27, 256, 3125, 46656, 823543, 16777216, 387420489, 10000000000]"
            ]
          },
          "metadata": {},
          "execution_count": 102
        }
      ]
    },
    {
      "cell_type": "code",
      "source": [
        "l = [i for i in range(1, 11)]\n",
        "l"
      ],
      "metadata": {
        "colab": {
          "base_uri": "https://localhost:8080/"
        },
        "id": "wSD7jgVGqZNT",
        "outputId": "c9c6d606-b3f4-49db-c7be-3c34ab4e74bb"
      },
      "execution_count": null,
      "outputs": [
        {
          "output_type": "execute_result",
          "data": {
            "text/plain": [
              "[1, 2, 3, 4, 5, 6, 7, 8, 9, 10]"
            ]
          },
          "metadata": {},
          "execution_count": 103
        }
      ]
    },
    {
      "cell_type": "code",
      "source": [
        "l = []\n",
        "for i in range(1, 100):\n",
        "    if i % 3 == 0 or i % 5 == 0:\n",
        "        l.append(i)\n",
        "\n",
        "a = [i for i in range(1, 100) if i % 3 == 0 or i % 5 == 0]\n",
        "a"
      ],
      "metadata": {
        "colab": {
          "base_uri": "https://localhost:8080/"
        },
        "id": "o0TuvcfeqoIm",
        "outputId": "63c3ee25-6459-4cbd-d14a-8509e5ee2fc5"
      },
      "execution_count": null,
      "outputs": [
        {
          "output_type": "execute_result",
          "data": {
            "text/plain": [
              "[3,\n",
              " 5,\n",
              " 6,\n",
              " 9,\n",
              " 10,\n",
              " 12,\n",
              " 15,\n",
              " 18,\n",
              " 20,\n",
              " 21,\n",
              " 24,\n",
              " 25,\n",
              " 27,\n",
              " 30,\n",
              " 33,\n",
              " 35,\n",
              " 36,\n",
              " 39,\n",
              " 40,\n",
              " 42,\n",
              " 45,\n",
              " 48,\n",
              " 50,\n",
              " 51,\n",
              " 54,\n",
              " 55,\n",
              " 57,\n",
              " 60,\n",
              " 63,\n",
              " 65,\n",
              " 66,\n",
              " 69,\n",
              " 70,\n",
              " 72,\n",
              " 75,\n",
              " 78,\n",
              " 80,\n",
              " 81,\n",
              " 84,\n",
              " 85,\n",
              " 87,\n",
              " 90,\n",
              " 93,\n",
              " 95,\n",
              " 96,\n",
              " 99]"
            ]
          },
          "metadata": {},
          "execution_count": 105
        }
      ]
    },
    {
      "cell_type": "markdown",
      "source": [
        "## tuple (튜플)"
      ],
      "metadata": {
        "id": "IYGOz1tv9alR"
      }
    },
    {
      "cell_type": "markdown",
      "source": [
        "- 튜플은 순서가 있는 시퀀스형 자료형입니다.\n",
        "- 참조값은 변경이 불가능(immutable) 합니다.\n",
        "- 다른 자료형을 입력할 수 있으며, 튜플 안에 튜플로 다차원의 튜플을 만드는 것도 가능합니다.\n",
        "- 값의 중복을 허락합니다."
      ],
      "metadata": {
        "id": "xGvN7K1o9ckx"
      }
    },
    {
      "cell_type": "code",
      "source": [
        "t = (10, 20, 30)\n",
        "t[1] = 1000"
      ],
      "metadata": {
        "id": "J0jn_kQJ9pWQ"
      },
      "execution_count": null,
      "outputs": []
    },
    {
      "cell_type": "code",
      "source": [
        "l = [1, 2, 3]\n",
        "t = (l, 20, 30) # 불변인 것은 t가 l을 참조하고 있다는 것이 불변\n",
        "l[0] = 1000\n",
        "t"
      ],
      "metadata": {
        "colab": {
          "base_uri": "https://localhost:8080/"
        },
        "id": "MeudN4I194M5",
        "outputId": "695fee47-aa09-41d4-f61a-484bfd1dfa6e"
      },
      "execution_count": null,
      "outputs": [
        {
          "output_type": "execute_result",
          "data": {
            "text/plain": [
              "([1000, 2, 3], 20, 30)"
            ]
          },
          "metadata": {},
          "execution_count": 107
        }
      ]
    },
    {
      "cell_type": "code",
      "source": [
        "t = (10, 20, 30, 40, 50)\n",
        "t[:3]"
      ],
      "metadata": {
        "colab": {
          "base_uri": "https://localhost:8080/"
        },
        "id": "Eia5WJWJ-f1p",
        "outputId": "cc4ac5ad-debd-44bf-c795-0a16e9956a3a"
      },
      "execution_count": null,
      "outputs": [
        {
          "output_type": "execute_result",
          "data": {
            "text/plain": [
              "(10, 20, 30)"
            ]
          },
          "metadata": {},
          "execution_count": 112
        }
      ]
    },
    {
      "cell_type": "code",
      "source": [
        "type(t), dir(t)"
      ],
      "metadata": {
        "colab": {
          "base_uri": "https://localhost:8080/"
        },
        "id": "I6Aazn1W-aJI",
        "outputId": "49f3e28c-5c0b-4f08-bcec-0f7d3b3cc244"
      },
      "execution_count": null,
      "outputs": [
        {
          "output_type": "execute_result",
          "data": {
            "text/plain": [
              "(tuple,\n",
              " ['__add__',\n",
              "  '__class__',\n",
              "  '__class_getitem__',\n",
              "  '__contains__',\n",
              "  '__delattr__',\n",
              "  '__dir__',\n",
              "  '__doc__',\n",
              "  '__eq__',\n",
              "  '__format__',\n",
              "  '__ge__',\n",
              "  '__getattribute__',\n",
              "  '__getitem__',\n",
              "  '__getnewargs__',\n",
              "  '__gt__',\n",
              "  '__hash__',\n",
              "  '__init__',\n",
              "  '__init_subclass__',\n",
              "  '__iter__',\n",
              "  '__le__',\n",
              "  '__len__',\n",
              "  '__lt__',\n",
              "  '__mul__',\n",
              "  '__ne__',\n",
              "  '__new__',\n",
              "  '__reduce__',\n",
              "  '__reduce_ex__',\n",
              "  '__repr__',\n",
              "  '__rmul__',\n",
              "  '__setattr__',\n",
              "  '__sizeof__',\n",
              "  '__str__',\n",
              "  '__subclasshook__',\n",
              "  'count',\n",
              "  'index'])"
            ]
          },
          "metadata": {},
          "execution_count": 108
        }
      ]
    },
    {
      "cell_type": "code",
      "source": [
        "t = (10, 20, 30, 40, 50, 20)\n",
        "t.index(20), t.count(20)"
      ],
      "metadata": {
        "colab": {
          "base_uri": "https://localhost:8080/"
        },
        "id": "eJCFJM_1-ten",
        "outputId": "596c5589-2257-4f9b-e6aa-c766763d8485"
      },
      "execution_count": null,
      "outputs": [
        {
          "output_type": "execute_result",
          "data": {
            "text/plain": [
              "(1, 2)"
            ]
          },
          "metadata": {},
          "execution_count": 114
        }
      ]
    },
    {
      "cell_type": "code",
      "source": [
        "t = tuple('leejuntae')\n",
        "t\n",
        "t = tuple()\n",
        "t\n",
        "t = tuple(range(10))\n",
        "t\n",
        "t = (1) \n",
        "t\n",
        "t = (1,) #원소를 하나씩 넣고 싶을 때는 콤마(,)를 사용해줍니다.\n",
        "t"
      ],
      "metadata": {
        "colab": {
          "base_uri": "https://localhost:8080/"
        },
        "id": "FdY6S8GI_ABQ",
        "outputId": "5acd18f1-7fb4-4c7e-f464-458ced26455c"
      },
      "execution_count": null,
      "outputs": [
        {
          "output_type": "execute_result",
          "data": {
            "text/plain": [
              "(1,)"
            ]
          },
          "metadata": {},
          "execution_count": 121
        }
      ]
    },
    {
      "cell_type": "markdown",
      "source": [
        "## dict (딕셔너리, 사전형)"
      ],
      "metadata": {
        "id": "Wazxs-NH_fB5"
      }
    },
    {
      "cell_type": "markdown",
      "source": [
        "- 딕셔너리는 순서가 없는 자료형입니다.(순서는 보장)\n",
        "- 사전형은 Key와 Value 가 하나의 묶음으로 이루어진 자료 체계입니다.\n",
        "- 값의 변경이 가능합니다.\n",
        "- 다른 자료형을 입력할 수 있습니다.\n",
        "- 키의 중복은 허락하지 않고, 값의 중복을 허락합니다."
      ],
      "metadata": {
        "id": "nUO9l0th_nVm"
      }
    },
    {
      "cell_type": "code",
      "source": [
        "{\n",
        "    '게시물 번호' : 1,\n",
        "    '게시자' : '이준태',\n",
        "    '게시물 내용' : '......'\n",
        "}"
      ],
      "metadata": {
        "colab": {
          "base_uri": "https://localhost:8080/"
        },
        "id": "88uLclY1_jgc",
        "outputId": "8c204aa3-e86f-412d-ec19-ae0cd916a969"
      },
      "execution_count": null,
      "outputs": [
        {
          "output_type": "execute_result",
          "data": {
            "text/plain": [
              "{'게시물 번호': 1, '게시자': '이준태', '게시물 내용': '......'}"
            ]
          },
          "metadata": {},
          "execution_count": 122
        }
      ]
    },
    {
      "cell_type": "code",
      "source": [
        "d = {'one' : '하나', 'two' : '둘', 'three' : '셋'}\n",
        "d['one']"
      ],
      "metadata": {
        "colab": {
          "base_uri": "https://localhost:8080/",
          "height": 35
        },
        "id": "tYzFJoy9Avlo",
        "outputId": "f9bdee52-d1cb-4371-90ca-abf328876878"
      },
      "execution_count": null,
      "outputs": [
        {
          "output_type": "execute_result",
          "data": {
            "text/plain": [
              "'하나'"
            ],
            "application/vnd.google.colaboratory.intrinsic+json": {
              "type": "string"
            }
          },
          "metadata": {},
          "execution_count": 124
        }
      ]
    },
    {
      "cell_type": "code",
      "source": [
        "d['two'] = '투'\n",
        "d"
      ],
      "metadata": {
        "colab": {
          "base_uri": "https://localhost:8080/"
        },
        "id": "9dBN79fXA1Bx",
        "outputId": "03d45980-1259-4ec2-e10f-ef65f35aee16"
      },
      "execution_count": null,
      "outputs": [
        {
          "output_type": "execute_result",
          "data": {
            "text/plain": [
              "{'one': '하나', 'two': '투', 'three': '셋'}"
            ]
          },
          "metadata": {},
          "execution_count": 128
        }
      ]
    },
    {
      "cell_type": "code",
      "source": [
        "d = {} # dict\n",
        "type(d)\n",
        "\n",
        "d = {10} # set\n",
        "type(d)\n",
        "\n",
        "d = dict() # dict\n",
        "type(d)\n",
        "\n",
        "d = {'one' : 1} # dict\n",
        "type(d)"
      ],
      "metadata": {
        "id": "QyaB5TLmBPb8"
      },
      "execution_count": null,
      "outputs": []
    },
    {
      "cell_type": "code",
      "source": [
        "d = {'one' : '하나', 'two' : '둘', 'three' : '셋'}\n",
        "d.items()"
      ],
      "metadata": {
        "colab": {
          "base_uri": "https://localhost:8080/"
        },
        "id": "vosIGSELBiMo",
        "outputId": "5868bebe-756d-4bdf-fb29-4251dd330c0e"
      },
      "execution_count": null,
      "outputs": [
        {
          "output_type": "execute_result",
          "data": {
            "text/plain": [
              "dict_items([('one', '하나'), ('two', '둘'), ('three', '셋')])"
            ]
          },
          "metadata": {},
          "execution_count": 129
        }
      ]
    },
    {
      "cell_type": "code",
      "source": [
        "dict([('one', '하나'), ('two', '둘'), ('three', '셋')])"
      ],
      "metadata": {
        "colab": {
          "base_uri": "https://localhost:8080/"
        },
        "id": "FvjOA5ScBy5z",
        "outputId": "57169351-1809-4c28-9192-48386c91c1d0"
      },
      "execution_count": null,
      "outputs": [
        {
          "output_type": "execute_result",
          "data": {
            "text/plain": [
              "{'one': '하나', 'two': '둘', 'three': '셋'}"
            ]
          },
          "metadata": {},
          "execution_count": 132
        }
      ]
    },
    {
      "cell_type": "code",
      "source": [
        "dict([['one', '하나'], ['two', '둘'], ['three', '셋']])"
      ],
      "metadata": {
        "colab": {
          "base_uri": "https://localhost:8080/"
        },
        "id": "g1e-9SxdB1py",
        "outputId": "f1accce7-464d-404b-c324-c0cb6a203df2"
      },
      "execution_count": null,
      "outputs": [
        {
          "output_type": "execute_result",
          "data": {
            "text/plain": [
              "{'one': '하나', 'two': '둘', 'three': '셋'}"
            ]
          },
          "metadata": {},
          "execution_count": 133
        }
      ]
    },
    {
      "cell_type": "code",
      "source": [
        "dict(name = 'leejuntae', age = 10)"
      ],
      "metadata": {
        "colab": {
          "base_uri": "https://localhost:8080/"
        },
        "id": "MrPLL3TJCGG8",
        "outputId": "317e806c-c6fe-4b68-c2f3-2dd1b5766951"
      },
      "execution_count": null,
      "outputs": [
        {
          "output_type": "execute_result",
          "data": {
            "text/plain": [
              "{'name': 'leejuntae', 'age': 10}"
            ]
          },
          "metadata": {},
          "execution_count": 135
        }
      ]
    },
    {
      "cell_type": "code",
      "source": [
        "list(zip('ABC', '123', 'abc'))\n",
        "\n",
        "dict(zip('ABC', '123')) #형변환"
      ],
      "metadata": {
        "colab": {
          "base_uri": "https://localhost:8080/"
        },
        "id": "nAQos6E4COf7",
        "outputId": "5eb1e069-f1a6-4326-b9b8-2a3d53a2708f"
      },
      "execution_count": null,
      "outputs": [
        {
          "output_type": "execute_result",
          "data": {
            "text/plain": [
              "{'A': '1', 'B': '2', 'C': '3'}"
            ]
          },
          "metadata": {},
          "execution_count": 136
        }
      ]
    },
    {
      "cell_type": "code",
      "source": [
        "# dict와 zip를 사용해서 아래와 같은 형태로 데이터를 만들어주세요.\n",
        "# 원하는 형태{'A': [10, 20], 'B': [20, 30], 'C': [30, 40]}\n",
        "# 방법 1\n",
        "dict(zip('ABC', [[10, 20], [20, 30], [30, 40]]))\n",
        "\n",
        "# 방법 2\n",
        "# dict(zip('ABC', [list(elem) for elem in zip([10, 20, 30], [20, 30, 40])]))\n",
        "\n",
        "# 방법 3\n",
        "# l = [10, 20, 30, 40]\n",
        "# dict(zip('ABC', zip(l, l[1:])))"
      ],
      "metadata": {
        "colab": {
          "base_uri": "https://localhost:8080/"
        },
        "id": "gvCBfS2OCd-g",
        "outputId": "6536772c-e0c2-4fdf-d01b-88aee187f718"
      },
      "execution_count": null,
      "outputs": [
        {
          "output_type": "execute_result",
          "data": {
            "text/plain": [
              "{'A': [10, 20], 'B': [20, 30], 'C': [30, 40]}"
            ]
          },
          "metadata": {},
          "execution_count": 146
        }
      ]
    },
    {
      "cell_type": "code",
      "source": [
        "'B' in {'A' : [10, 20], 'B' : [20, 30], 'C' : [30, 40]}"
      ],
      "metadata": {
        "colab": {
          "base_uri": "https://localhost:8080/"
        },
        "id": "csPx6eqaEv0n",
        "outputId": "85995737-00d1-43fb-b96c-a3b5e2e6382e"
      },
      "execution_count": null,
      "outputs": [
        {
          "output_type": "execute_result",
          "data": {
            "text/plain": [
              "True"
            ]
          },
          "metadata": {},
          "execution_count": 148
        }
      ]
    },
    {
      "cell_type": "code",
      "source": [
        "%%timeit\n",
        "\n",
        "s = 0\n",
        "for i in range(10000):\n",
        "    s += i"
      ],
      "metadata": {
        "colab": {
          "base_uri": "https://localhost:8080/"
        },
        "id": "M6vW6fVHFKcu",
        "outputId": "bbbcb6d8-38ae-408c-d3ca-fb517a6205f1"
      },
      "execution_count": null,
      "outputs": [
        {
          "output_type": "stream",
          "name": "stdout",
          "text": [
            "486 µs ± 169 µs per loop (mean ± std. dev. of 7 runs, 1000 loops each)\n"
          ]
        }
      ]
    },
    {
      "cell_type": "code",
      "source": [
        "%%timeit\n",
        "\n",
        "sum([i for i in range(10000)])"
      ],
      "metadata": {
        "colab": {
          "base_uri": "https://localhost:8080/"
        },
        "id": "BeCDhcjjFlFj",
        "outputId": "5443c50d-9bb9-41fa-9ac8-3a00e8bc5188"
      },
      "execution_count": null,
      "outputs": [
        {
          "output_type": "stream",
          "name": "stdout",
          "text": [
            "426 µs ± 54.3 µs per loop (mean ± std. dev. of 7 runs, 1000 loops each)\n"
          ]
        }
      ]
    },
    {
      "cell_type": "code",
      "source": [
        "%%timeit\n",
        "\n",
        "sum(range(10000))"
      ],
      "metadata": {
        "colab": {
          "base_uri": "https://localhost:8080/"
        },
        "id": "fua-FjSbGVhh",
        "outputId": "7d3282ad-454d-4df1-af74-914c131967aa"
      },
      "execution_count": null,
      "outputs": [
        {
          "output_type": "stream",
          "name": "stdout",
          "text": [
            "277 µs ± 84.3 µs per loop (mean ± std. dev. of 7 runs, 1000 loops each)\n"
          ]
        }
      ]
    },
    {
      "cell_type": "code",
      "source": [
        "len({'A' : [10, 20], 'B' : [20, 30], 'C' : [30, 40]})"
      ],
      "metadata": {
        "colab": {
          "base_uri": "https://localhost:8080/"
        },
        "id": "6-L4pgQyI--Q",
        "outputId": "b89deeae-21bf-4a9a-b010-5bfafb427a57"
      },
      "execution_count": null,
      "outputs": [
        {
          "output_type": "execute_result",
          "data": {
            "text/plain": [
              "3"
            ]
          },
          "metadata": {},
          "execution_count": 153
        }
      ]
    },
    {
      "cell_type": "code",
      "source": [
        "# 공부해두시면 좋습니다!\n",
        "def switch(day):\n",
        "    return{\n",
        "        1 : '월요일',\n",
        "        2 : '화요일',\n",
        "        3 : '수요일',\n",
        "        4 : '목요일',\n",
        "        5 : '금요일',\n",
        "        6 : '토요일',\n",
        "        7 : '일요일',\n",
        "    }[day]\n",
        "\n",
        "switch(7)\n",
        "# switch(8) # error"
      ],
      "metadata": {
        "colab": {
          "base_uri": "https://localhost:8080/",
          "height": 35
        },
        "id": "zISvJ9hvJRAP",
        "outputId": "a5b12074-174b-4a77-ac08-c512858eefb6"
      },
      "execution_count": null,
      "outputs": [
        {
          "output_type": "execute_result",
          "data": {
            "text/plain": [
              "'일요일'"
            ],
            "application/vnd.google.colaboratory.intrinsic+json": {
              "type": "string"
            }
          },
          "metadata": {},
          "execution_count": 157
        }
      ]
    },
    {
      "cell_type": "code",
      "source": [
        "def switch(day):\n",
        "    return{\n",
        "        1 : '월요일',\n",
        "        2 : '화요일',\n",
        "        3 : '수요일',\n",
        "        4 : '목요일',\n",
        "        5 : '금요일',\n",
        "        6 : '토요일',\n",
        "        7 : '일요일',\n",
        "    }.get(day)\n",
        "\n",
        "switch(8)\n",
        "# get을 사용하면 None을 줍니다."
      ],
      "metadata": {
        "id": "JwSwunI3K_Yr"
      },
      "execution_count": null,
      "outputs": []
    },
    {
      "cell_type": "code",
      "source": [
        "def switch(day):\n",
        "    return{\n",
        "        1 : '월요일',\n",
        "        2 : '화요일',\n",
        "        3 : '수요일',\n",
        "        4 : '목요일',\n",
        "        5 : '금요일',\n",
        "        6 : '토요일',\n",
        "        7 : '일요일',\n",
        "    }.get(day, '요일을 찾지 못했습니다.')\n",
        "\n",
        "switch(8) # get을 사용하면 못찾는 값을 넣었을 때 Default값을 줍니다."
      ],
      "metadata": {
        "colab": {
          "base_uri": "https://localhost:8080/",
          "height": 35
        },
        "id": "tkmRoPFsKprn",
        "outputId": "09417dce-bf0f-47f7-d6b8-cde6e9df1f12"
      },
      "execution_count": null,
      "outputs": [
        {
          "output_type": "execute_result",
          "data": {
            "text/plain": [
              "'요일을 찾지 못했습니다.'"
            ],
            "application/vnd.google.colaboratory.intrinsic+json": {
              "type": "string"
            }
          },
          "metadata": {},
          "execution_count": 158
        }
      ]
    },
    {
      "cell_type": "code",
      "source": [
        "!python --version"
      ],
      "metadata": {
        "colab": {
          "base_uri": "https://localhost:8080/"
        },
        "id": "UHl2DLGFKBd5",
        "outputId": "b9c60b9e-3f49-4694-c8b1-40bbffff1940"
      },
      "execution_count": null,
      "outputs": [
        {
          "output_type": "stream",
          "name": "stdout",
          "text": [
            "Python 3.10.11\n"
          ]
        }
      ]
    },
    {
      "cell_type": "code",
      "source": [
        "{'A': [10, 20], 'B': [20, 30], 'C': [30, 40]}.keys()"
      ],
      "metadata": {
        "colab": {
          "base_uri": "https://localhost:8080/"
        },
        "id": "xGjAdCGELaVP",
        "outputId": "9155ef03-48f7-4e6c-a5db-a28f44b054b1"
      },
      "execution_count": null,
      "outputs": [
        {
          "output_type": "execute_result",
          "data": {
            "text/plain": [
              "dict_keys(['A', 'B', 'C'])"
            ]
          },
          "metadata": {},
          "execution_count": 164
        }
      ]
    },
    {
      "cell_type": "code",
      "source": [
        "{'A': [10, 20], 'B': [20, 30], 'C': [30, 40]}.values()"
      ],
      "metadata": {
        "colab": {
          "base_uri": "https://localhost:8080/"
        },
        "id": "X8BRM9U3Lgdr",
        "outputId": "91c96a91-5747-4506-ef85-84b00127dcb8"
      },
      "execution_count": null,
      "outputs": [
        {
          "output_type": "execute_result",
          "data": {
            "text/plain": [
              "dict_values([[10, 20], [20, 30], [30, 40]])"
            ]
          },
          "metadata": {},
          "execution_count": 165
        }
      ]
    },
    {
      "cell_type": "code",
      "source": [
        "{'A': [10, 20], 'B': [20, 30], 'C': [30, 40]}.items()\n",
        "# key와 value 값 둘 다 뽑아냄"
      ],
      "metadata": {
        "colab": {
          "base_uri": "https://localhost:8080/"
        },
        "id": "G2sRNHiBLghL",
        "outputId": "c84de396-eaed-42df-d33e-1d2be3d87b80"
      },
      "execution_count": null,
      "outputs": [
        {
          "output_type": "execute_result",
          "data": {
            "text/plain": [
              "dict_items([('A', [10, 20]), ('B', [20, 30]), ('C', [30, 40])])"
            ]
          },
          "metadata": {},
          "execution_count": 166
        }
      ]
    },
    {
      "cell_type": "code",
      "source": [
        "dict.fromkeys('leejuntae')"
      ],
      "metadata": {
        "colab": {
          "base_uri": "https://localhost:8080/"
        },
        "id": "D2NGHrVyLsgB",
        "outputId": "ef82047b-07e6-4f8c-eb1d-560c4e54da17"
      },
      "execution_count": null,
      "outputs": [
        {
          "output_type": "execute_result",
          "data": {
            "text/plain": [
              "{'l': None, 'e': None, 'j': None, 'u': None, 'n': None, 't': None, 'a': None}"
            ]
          },
          "metadata": {},
          "execution_count": 171
        }
      ]
    },
    {
      "cell_type": "code",
      "source": [
        "dict.fromkeys('leejuntae', 100)"
      ],
      "metadata": {
        "colab": {
          "base_uri": "https://localhost:8080/"
        },
        "id": "lE2mauuCLx3R",
        "outputId": "5d3c4550-6aa7-46b8-e153-bf11e5cc44bf"
      },
      "execution_count": null,
      "outputs": [
        {
          "output_type": "execute_result",
          "data": {
            "text/plain": [
              "{'l': 100, 'e': 100, 'j': 100, 'u': 100, 'n': 100, 't': 100, 'a': 100}"
            ]
          },
          "metadata": {},
          "execution_count": 169
        }
      ]
    },
    {
      "cell_type": "code",
      "source": [
        "keys = ('name', 'age', 'grade')\n",
        "values = ('leejuntae', '10', '수')\n",
        "\n",
        "dict.fromkeys(keys, values)"
      ],
      "metadata": {
        "colab": {
          "base_uri": "https://localhost:8080/"
        },
        "id": "th-y_LUFMG5l",
        "outputId": "6655781b-4112-4906-d109-df9832144c04"
      },
      "execution_count": null,
      "outputs": [
        {
          "output_type": "execute_result",
          "data": {
            "text/plain": [
              "{'name': ('leejuntae', '10', '수'),\n",
              " 'age': ('leejuntae', '10', '수'),\n",
              " 'grade': ('leejuntae', '10', '수')}"
            ]
          },
          "metadata": {},
          "execution_count": 173
        }
      ]
    },
    {
      "cell_type": "code",
      "source": [
        "d = {'one' : '하나', 'two' : '둘', 'three' : '셋'}\n",
        "d.update({'one' : 1, 'two' : 2})\n",
        "d"
      ],
      "metadata": {
        "colab": {
          "base_uri": "https://localhost:8080/"
        },
        "id": "7kUGUaC5M044",
        "outputId": "c8a66e1d-17ee-42c7-d5ad-e4da248bcaa1"
      },
      "execution_count": null,
      "outputs": [
        {
          "output_type": "execute_result",
          "data": {
            "text/plain": [
              "{'one': 1, 'two': 2, 'three': '셋'}"
            ]
          },
          "metadata": {},
          "execution_count": 174
        }
      ]
    },
    {
      "cell_type": "markdown",
      "source": [
        "## 딕셔너리의 순회"
      ],
      "metadata": {
        "id": "J3ZdXlq9MyvL"
      }
    },
    {
      "cell_type": "code",
      "source": [
        "# key만 순회합니다.\n",
        "d = {'two' : 2, 'three' : '셋'}\n",
        "for i in d:\n",
        "    print(i)"
      ],
      "metadata": {
        "colab": {
          "base_uri": "https://localhost:8080/"
        },
        "id": "S7mCMY1JM3mC",
        "outputId": "fe9b8a75-a78d-45b3-8d71-c336be1e2298"
      },
      "execution_count": null,
      "outputs": [
        {
          "output_type": "stream",
          "name": "stdout",
          "text": [
            "two\n",
            "three\n"
          ]
        }
      ]
    },
    {
      "cell_type": "code",
      "source": [
        "d = {'two' : 2, 'three' : '셋'}\n",
        "for i in d:\n",
        "    print(d[i])"
      ],
      "metadata": {
        "colab": {
          "base_uri": "https://localhost:8080/"
        },
        "id": "CgwdJGfUM-tC",
        "outputId": "665a3857-5730-4272-8982-957adeeb1bed"
      },
      "execution_count": null,
      "outputs": [
        {
          "output_type": "stream",
          "name": "stdout",
          "text": [
            "2\n",
            "셋\n"
          ]
        }
      ]
    },
    {
      "cell_type": "markdown",
      "source": [
        "## 언패킹"
      ],
      "metadata": {
        "id": "v_bvnlqqNN75"
      }
    },
    {
      "cell_type": "code",
      "source": [
        "# 패킹 : 1, 2, 3 => [1, 2, 3]\n",
        "# 언패킹 : [1, 2, 3] => 1, 2, 3"
      ],
      "metadata": {
        "id": "vCyOC6RiNQwD"
      },
      "execution_count": null,
      "outputs": []
    },
    {
      "cell_type": "code",
      "source": [
        "a, b, c = 10, 20, 30\n",
        "a"
      ],
      "metadata": {
        "colab": {
          "base_uri": "https://localhost:8080/"
        },
        "id": "H4K3liHmNbgM",
        "outputId": "bf6cce75-ad8a-46f1-e37c-9ab168c26d09"
      },
      "execution_count": null,
      "outputs": [
        {
          "output_type": "execute_result",
          "data": {
            "text/plain": [
              "10"
            ]
          },
          "metadata": {},
          "execution_count": 179
        }
      ]
    },
    {
      "cell_type": "code",
      "source": [
        "a, b, c = {10, 20, 30} # 소괄호든 대괄호든 상관없습니다!\n",
        "a"
      ],
      "metadata": {
        "colab": {
          "base_uri": "https://localhost:8080/"
        },
        "id": "T4IaurzONkAa",
        "outputId": "1e278796-8f8f-411c-d7ea-108eb2b41313"
      },
      "execution_count": null,
      "outputs": [
        {
          "output_type": "execute_result",
          "data": {
            "text/plain": [
              "10"
            ]
          },
          "metadata": {},
          "execution_count": 180
        }
      ]
    },
    {
      "cell_type": "code",
      "source": [
        "a, b, c = (10, 20, 30) # 소괄호든 대괄호든 상관없습니다!\n",
        "a"
      ],
      "metadata": {
        "colab": {
          "base_uri": "https://localhost:8080/"
        },
        "id": "G6GBt4O4Ny_w",
        "outputId": "e130785c-cd13-4c33-abcb-0b40cf966342"
      },
      "execution_count": null,
      "outputs": [
        {
          "output_type": "execute_result",
          "data": {
            "text/plain": [
              "10"
            ]
          },
          "metadata": {},
          "execution_count": 181
        }
      ]
    },
    {
      "cell_type": "code",
      "source": [
        "a, b, c = [10, 20, 30] # 소괄호든 대괄호든 상관없습니다!\n",
        "a"
      ],
      "metadata": {
        "colab": {
          "base_uri": "https://localhost:8080/"
        },
        "id": "5BnkkAXUNzXu",
        "outputId": "ec4d6289-1b5f-4bda-cc28-8beed44f529d"
      },
      "execution_count": null,
      "outputs": [
        {
          "output_type": "execute_result",
          "data": {
            "text/plain": [
              "10"
            ]
          },
          "metadata": {},
          "execution_count": 182
        }
      ]
    },
    {
      "cell_type": "code",
      "source": [
        "for i , j in [[10, 20], [30, 40], [50, 60]]:\n",
        "    print(i, j)"
      ],
      "metadata": {
        "colab": {
          "base_uri": "https://localhost:8080/"
        },
        "id": "kXcQ-pPlN5E5",
        "outputId": "9b8d52c1-3c14-4c0e-9f8a-dc45028d513c"
      },
      "execution_count": null,
      "outputs": [
        {
          "output_type": "stream",
          "name": "stdout",
          "text": [
            "10 20\n",
            "30 40\n",
            "50 60\n"
          ]
        }
      ]
    },
    {
      "cell_type": "code",
      "source": [
        "for i, j, k in [[10, 20, [1, 2]], [30, 40, [3, 4]], [50, 60, [5, 6]]]:\n",
        "    print(i, j, k)"
      ],
      "metadata": {
        "colab": {
          "base_uri": "https://localhost:8080/"
        },
        "id": "imxvzOSjOJ2R",
        "outputId": "7e40ec83-b1ed-48fb-9b17-4199c30dabda"
      },
      "execution_count": null,
      "outputs": [
        {
          "output_type": "stream",
          "name": "stdout",
          "text": [
            "10 20 [1, 2]\n",
            "30 40 [3, 4]\n",
            "50 60 [5, 6]\n"
          ]
        }
      ]
    },
    {
      "cell_type": "code",
      "source": [
        "for i, j, k in [[10, 20, [1, 2]], [30, 40, [3, 4]], [50, 60, []]]:\n",
        "    print(i, j, k)"
      ],
      "metadata": {
        "colab": {
          "base_uri": "https://localhost:8080/"
        },
        "id": "pfqMPFMsOpdz",
        "outputId": "afa6351c-96d7-4f97-8a29-d6b3f8501d80"
      },
      "execution_count": null,
      "outputs": [
        {
          "output_type": "stream",
          "name": "stdout",
          "text": [
            "10 20 [1, 2]\n",
            "30 40 [3, 4]\n",
            "50 60 []\n"
          ]
        }
      ]
    },
    {
      "cell_type": "code",
      "source": [
        "# swap\n",
        "a = 10\n",
        "b = 15\n",
        "a, b = b, a\n",
        "a, b"
      ],
      "metadata": {
        "colab": {
          "base_uri": "https://localhost:8080/"
        },
        "id": "3z6f2O3_OrSB",
        "outputId": "124f5ec6-d6dd-4b6c-8543-41c0a3ab6695"
      },
      "execution_count": null,
      "outputs": [
        {
          "output_type": "execute_result",
          "data": {
            "text/plain": [
              "(15, 10)"
            ]
          },
          "metadata": {},
          "execution_count": 190
        }
      ]
    },
    {
      "cell_type": "code",
      "source": [
        "# swap in c\n",
        "a = 10\n",
        "b = 15\n",
        "temp = a\n",
        "a = b\n",
        "b = temp\n",
        "a, b"
      ],
      "metadata": {
        "colab": {
          "base_uri": "https://localhost:8080/"
        },
        "id": "9NVzRWGhO2M_",
        "outputId": "4db03b77-7030-4c11-b77b-1c6aabcd31dc"
      },
      "execution_count": null,
      "outputs": [
        {
          "output_type": "execute_result",
          "data": {
            "text/plain": [
              "(15, 10)"
            ]
          },
          "metadata": {},
          "execution_count": 191
        }
      ]
    },
    {
      "cell_type": "code",
      "source": [
        "for i, j in d.items():\n",
        "     print(i, j)"
      ],
      "metadata": {
        "colab": {
          "base_uri": "https://localhost:8080/"
        },
        "id": "J81kTdHhNJ4H",
        "outputId": "d1806dbd-34aa-4a8e-ce0f-1031808f8285"
      },
      "execution_count": null,
      "outputs": [
        {
          "output_type": "stream",
          "name": "stdout",
          "text": [
            "two 2\n",
            "three 셋\n"
          ]
        }
      ]
    },
    {
      "cell_type": "markdown",
      "source": [
        "## max를 이용한 dict 최대 value의 key값 가져오기"
      ],
      "metadata": {
        "id": "2QeqFhyWNryL"
      }
    },
    {
      "cell_type": "code",
      "source": [
        "d = {\n",
        "    'test1' : 10,\n",
        "    'test2' : 20,\n",
        "    'test3' : 31,\n",
        "    'test4' : 11,\n",
        "}\n",
        "\n",
        "max(d.values()) # 이걸로는 뭔가 찾아내기 힘듭니다.\n",
        "max(d, key=lambda x: d[x])\n",
        "max(d, key = d.get) # 많이 사용하는 코드입니다."
      ],
      "metadata": {
        "colab": {
          "base_uri": "https://localhost:8080/",
          "height": 35
        },
        "id": "d1bNbdFlNrgm",
        "outputId": "0f95c03e-5676-4b90-ca4c-10e39f49294a"
      },
      "execution_count": null,
      "outputs": [
        {
          "output_type": "execute_result",
          "data": {
            "text/plain": [
              "'test3'"
            ],
            "application/vnd.google.colaboratory.intrinsic+json": {
              "type": "string"
            }
          },
          "metadata": {},
          "execution_count": 195
        }
      ]
    },
    {
      "cell_type": "markdown",
      "source": [
        "## set (셋, 집합)"
      ],
      "metadata": {
        "id": "HWcrQgSqQeQc"
      }
    },
    {
      "cell_type": "markdown",
      "source": [
        "* 집합 자료형은 중복을 허용하지 않습니다.\n",
        "* 순서가 없는 자료형"
      ],
      "metadata": {
        "id": "Tu0RakSjRDpF"
      }
    },
    {
      "cell_type": "code",
      "source": [
        "n = set([1, 1, 2, 2, 3, 3, 4])\n",
        "print(n)"
      ],
      "metadata": {
        "colab": {
          "base_uri": "https://localhost:8080/"
        },
        "id": "BoL5IWaCQ0g0",
        "outputId": "ddf8d59d-a408-42a4-d78b-02cbc9001b71"
      },
      "execution_count": null,
      "outputs": [
        {
          "output_type": "stream",
          "name": "stdout",
          "text": [
            "{1, 2, 3, 4}\n"
          ]
        }
      ]
    },
    {
      "cell_type": "code",
      "source": [
        "s = set('hello world')\n",
        "print(s)"
      ],
      "metadata": {
        "colab": {
          "base_uri": "https://localhost:8080/"
        },
        "id": "WKVlrzViQ4Tu",
        "outputId": "3576856b-1bcc-4b4a-84ae-b565984194eb"
      },
      "execution_count": null,
      "outputs": [
        {
          "output_type": "stream",
          "name": "stdout",
          "text": [
            "{'h', 'o', 'e', 'r', 'l', 'd', ' ', 'w'}\n"
          ]
        }
      ]
    },
    {
      "cell_type": "code",
      "source": [
        "n = set([1, 1, 2, 2, 3, 3, 4])\n",
        "n.add(1000)\n",
        "print(n)"
      ],
      "metadata": {
        "colab": {
          "base_uri": "https://localhost:8080/"
        },
        "id": "aOas5JHKTqcb",
        "outputId": "3ff48ef1-3b18-43a5-b2c0-ff5d55934591"
      },
      "execution_count": null,
      "outputs": [
        {
          "output_type": "stream",
          "name": "stdout",
          "text": [
            "{1, 2, 3, 4, 1000}\n"
          ]
        }
      ]
    },
    {
      "cell_type": "code",
      "source": [
        "n = set([1, 1, 2, 2, 3, 3, 4])\n",
        "n.update({1000})\n",
        "print(n)"
      ],
      "metadata": {
        "colab": {
          "base_uri": "https://localhost:8080/"
        },
        "id": "yXvN91H0T5nZ",
        "outputId": "26bd7d6b-277b-4e6c-f1ac-af4e77e38525"
      },
      "execution_count": null,
      "outputs": [
        {
          "output_type": "stream",
          "name": "stdout",
          "text": [
            "{1, 2, 3, 4, 1000}\n"
          ]
        }
      ]
    },
    {
      "cell_type": "code",
      "source": [
        "n = set([1, 1, 2, 2, 3, 3, 4])\n",
        "n.remove(1)\n",
        "print(n)"
      ],
      "metadata": {
        "colab": {
          "base_uri": "https://localhost:8080/"
        },
        "id": "sahRjUTJWaQt",
        "outputId": "2acc540a-222b-4d2e-cb12-8afcda13cc11"
      },
      "execution_count": null,
      "outputs": [
        {
          "output_type": "stream",
          "name": "stdout",
          "text": [
            "{2, 3, 4}\n"
          ]
        }
      ]
    },
    {
      "cell_type": "markdown",
      "source": [
        "* pop은 실무에서 사용하지 않습니다. 값을 랜덤하게 뽑아내기 때문입니다.\n",
        "* 높은 확률로 앞에서부터 뽑아내긴 하지만 확률에 기대는 코딩을 하지 않기를 바랍니다.\n",
        "* 공식문서에서는 랜덤하게 뽑아낸다고 되어 있습니다.\n",
        "* https://docs.python.org/3.11/library/stdtypes.html#frozenset.pop"
      ],
      "metadata": {
        "id": "9JSMKGTGW85M"
      }
    },
    {
      "cell_type": "code",
      "source": [
        "# 교집합 별 3개\n",
        "a = {1, 2, 3}\n",
        "b = {3, 4, 5}\n",
        "a & b\n",
        "a.intersection(b)"
      ],
      "metadata": {
        "colab": {
          "base_uri": "https://localhost:8080/"
        },
        "id": "I_pxNN9bXRge",
        "outputId": "ce210f21-1d8d-4b8c-a7e1-92f62b41c399"
      },
      "execution_count": null,
      "outputs": [
        {
          "output_type": "execute_result",
          "data": {
            "text/plain": [
              "{3}"
            ]
          },
          "metadata": {},
          "execution_count": 206
        }
      ]
    },
    {
      "cell_type": "code",
      "source": [
        "# 합집합\n",
        "a = {1, 2, 3}\n",
        "b = {3, 4, 5}\n",
        "a | b\n",
        "a.union(b)\n",
        "# a + b # error  셋은 + 가 안됨"
      ],
      "metadata": {
        "colab": {
          "base_uri": "https://localhost:8080/"
        },
        "id": "MIGZ3oeKXvWI",
        "outputId": "c9e95bba-e293-452a-8a5d-2fbae469561a"
      },
      "execution_count": null,
      "outputs": [
        {
          "output_type": "execute_result",
          "data": {
            "text/plain": [
              "{1, 2, 3, 4, 5}"
            ]
          },
          "metadata": {},
          "execution_count": 207
        }
      ]
    },
    {
      "cell_type": "code",
      "source": [
        "# 차집합\n",
        "a = {1, 2, 3}\n",
        "b = {3, 4, 5}\n",
        "a - b\n",
        "a.difference(b)"
      ],
      "metadata": {
        "colab": {
          "base_uri": "https://localhost:8080/"
        },
        "id": "4DMJg8u-YFh-",
        "outputId": "e1faad6e-bd9c-4f59-ac93-3b80edf80a41"
      },
      "execution_count": null,
      "outputs": [
        {
          "output_type": "execute_result",
          "data": {
            "text/plain": [
              "{1, 2}"
            ]
          },
          "metadata": {},
          "execution_count": 209
        }
      ]
    },
    {
      "cell_type": "code",
      "source": [
        "s = {1, 2, 3, 4}\n",
        "ss = {3, 4, 5, 6}\n",
        "s.issubset({1, 2})\n",
        "# s가 {1, 2}의 서브셋이냐? False\n",
        "s.issubset({1, 2, 3, 4, 5, 6, 7, 8})\n",
        "# s가 {1, 2, 3, 4, 5, 6, 7, 8}의 서브셋이냐? True"
      ],
      "metadata": {
        "colab": {
          "base_uri": "https://localhost:8080/"
        },
        "id": "I9p_NplKYaN_",
        "outputId": "4530d293-e4f5-4e26-abc0-81ae8ca2404f"
      },
      "execution_count": null,
      "outputs": [
        {
          "output_type": "execute_result",
          "data": {
            "text/plain": [
              "True"
            ]
          },
          "metadata": {},
          "execution_count": 211
        }
      ]
    },
    {
      "cell_type": "code",
      "source": [
        "# https://school.programmers.co.kr/learn/courses/30/lessons/120903?language=python3\n",
        "def solution(s1, s2):\n",
        "    return len(set(s1) & set(s2))"
      ],
      "metadata": {
        "id": "WH6gfDxthdtC"
      },
      "execution_count": null,
      "outputs": []
    },
    {
      "cell_type": "code",
      "source": [
        "# https://school.programmers.co.kr/learn/courses/30/lessons/120888?language=python3\n",
        "# my_string     result\n",
        "# \"people\"      \"peol\""
      ],
      "metadata": {
        "id": "g2EBpllPSPDY"
      },
      "execution_count": null,
      "outputs": []
    },
    {
      "cell_type": "code",
      "source": [
        "# my_string     result\n",
        "# \"people\"      \"peol\"\n",
        "result = ''\n",
        "for i in 'people':\n",
        "    if i not in result:\n",
        "        result += i\n",
        "\n",
        "result"
      ],
      "metadata": {
        "colab": {
          "base_uri": "https://localhost:8080/",
          "height": 35
        },
        "id": "XD147xfGYwGE",
        "outputId": "a1f5d85d-186c-4675-f4da-18c0f6c3cf6b"
      },
      "execution_count": null,
      "outputs": [
        {
          "output_type": "execute_result",
          "data": {
            "text/plain": [
              "'peol'"
            ],
            "application/vnd.google.colaboratory.intrinsic+json": {
              "type": "string"
            }
          },
          "metadata": {},
          "execution_count": 213
        }
      ]
    },
    {
      "cell_type": "code",
      "source": [
        "def solution(my_string):\n",
        "    return set(my_string)\n",
        "\n",
        "solution('people')"
      ],
      "metadata": {
        "colab": {
          "base_uri": "https://localhost:8080/"
        },
        "id": "BUPDkLxsSc_M",
        "outputId": "16480acc-439a-4b06-f361-a3273ce95abf"
      },
      "execution_count": null,
      "outputs": [
        {
          "output_type": "execute_result",
          "data": {
            "text/plain": [
              "{'e', 'l', 'o', 'p'}"
            ]
          },
          "metadata": {},
          "execution_count": 198
        }
      ]
    },
    {
      "cell_type": "code",
      "source": [
        "def solution(my_string):\n",
        "    return ''.join(set(my_string))\n",
        "\n",
        "solution('people')"
      ],
      "metadata": {
        "colab": {
          "base_uri": "https://localhost:8080/",
          "height": 35
        },
        "id": "loWsNcARSu-G",
        "outputId": "cff9356c-067b-4e21-b568-8b82446fee2a"
      },
      "execution_count": null,
      "outputs": [
        {
          "output_type": "execute_result",
          "data": {
            "text/plain": [
              "'epol'"
            ],
            "application/vnd.google.colaboratory.intrinsic+json": {
              "type": "string"
            }
          },
          "metadata": {},
          "execution_count": 200
        }
      ]
    },
    {
      "cell_type": "code",
      "source": [
        "def solution(my_string):\n",
        "    집합 = set(my_string)\n",
        "    result = ''\n",
        "    for i in my_string:\n",
        "        if i in 집합:\n",
        "            result += i\n",
        "            집합.remove(i)\n",
        "    return result\n",
        "\n",
        "solution('people')"
      ],
      "metadata": {
        "colab": {
          "base_uri": "https://localhost:8080/",
          "height": 35
        },
        "id": "8KXlltRiZnAG",
        "outputId": "2b7a8ea2-9ca7-4db1-dd24-8cbdd235961c"
      },
      "execution_count": null,
      "outputs": [
        {
          "output_type": "execute_result",
          "data": {
            "text/plain": [
              "'peol'"
            ],
            "application/vnd.google.colaboratory.intrinsic+json": {
              "type": "string"
            }
          },
          "metadata": {},
          "execution_count": 216
        }
      ]
    },
    {
      "cell_type": "markdown",
      "source": [
        "## !!연습문제"
      ],
      "metadata": {
        "id": "1fJU46u6apXC"
      }
    },
    {
      "cell_type": "code",
      "source": [
        "student_score = {\n",
        "\t\t'홍의': 97,\n",
        "\t\t'원희': 60,\n",
        "\t\t'동해': 77,\n",
        "\t\t'변수': 79,\n",
        "\t\t'창현': 89,\n",
        "}\n",
        "\n",
        "# 학생들의 **총점**을 구하는 코드를 작성하세요.\n",
        "sum(student_score.values())\n",
        "# 학생들의 **평균 점수**를 구하는 코드를 작성하세요.\n",
        "sum(student_score.values())/len(student_score)\n",
        "# 점수가 가장 **높은** 학생의 이름과 그 점수를 구하는 코드를 작성하세요.\n",
        "max(student_score, key = student_score.get)\n",
        "student_score[max(student_score, key = student_score.get)]\n",
        "# 점수가 가장 **낮은** 학생의 이름과 그 점수를 구하는 코드를 작성하세요.\n",
        "min(student_score, key = student_score.get)\n",
        "student_score[min(student_score, key = student_score.get)]"
      ],
      "metadata": {
        "colab": {
          "base_uri": "https://localhost:8080/"
        },
        "id": "rOq_1r87ascy",
        "outputId": "d29d67ef-caa3-4429-d647-eae018eaff1f"
      },
      "execution_count": null,
      "outputs": [
        {
          "output_type": "execute_result",
          "data": {
            "text/plain": [
              "60"
            ]
          },
          "metadata": {},
          "execution_count": 223
        }
      ]
    },
    {
      "cell_type": "code",
      "source": [
        "가장큰값 = max(student_score.values())\n",
        "for i in student_score:\n",
        "    if student_score[i] == 가장큰값:\n",
        "         print(i, 가장큰값)"
      ],
      "metadata": {
        "colab": {
          "base_uri": "https://localhost:8080/"
        },
        "id": "GamqNyM3fML7",
        "outputId": "88e57169-de01-40dd-95c2-db0675f453dd"
      },
      "execution_count": null,
      "outputs": [
        {
          "output_type": "stream",
          "name": "stdout",
          "text": [
            "홍의 97\n"
          ]
        }
      ]
    },
    {
      "cell_type": "code",
      "source": [
        "like = ['볶음밥', '라면', '국수', '파스타', '치킨', '짜장면', '국밥']\n",
        "dislike = ['국밥', '짬뽕', '찜닭', '파스타', '국수', '카레', '덮밥']\n",
        "# 학생들은 점심 메뉴를 고를 때, 한 명이라도 싫어하는 메뉴라면 고르지 않기로 했습니다.\n",
        "# 최종 후보 메뉴들의 리스트를 구하는 코드를 작성해주세요.\n",
        "list(set(like) - set(dislike))"
      ],
      "metadata": {
        "colab": {
          "base_uri": "https://localhost:8080/"
        },
        "id": "n9VYSlAxfzun",
        "outputId": "71d28bc1-7408-40ee-d074-cb3c82ef989c"
      },
      "execution_count": null,
      "outputs": [
        {
          "output_type": "execute_result",
          "data": {
            "text/plain": [
              "['볶음밥', '치킨', '짜장면', '라면']"
            ]
          },
          "metadata": {},
          "execution_count": 232
        }
      ]
    }
  ]
}