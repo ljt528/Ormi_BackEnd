{
  "nbformat": 4,
  "nbformat_minor": 0,
  "metadata": {
    "colab": {
      "provenance": [],
      "authorship_tag": "ABX9TyMHvC6h5KhXkTRu8iqkf1Cw",
      "include_colab_link": true
    },
    "kernelspec": {
      "name": "python3",
      "display_name": "Python 3"
    },
    "language_info": {
      "name": "python"
    }
  },
  "cells": [
    {
      "cell_type": "markdown",
      "metadata": {
        "id": "view-in-github",
        "colab_type": "text"
      },
      "source": [
        "<a href=\"https://colab.research.google.com/github/ljt528/Backend/blob/main/5.8.%EC%9B%94.ipynb\" target=\"_parent\"><img src=\"https://colab.research.google.com/assets/colab-badge.svg\" alt=\"Open In Colab\"/></a>"
      ]
    },
    {
      "cell_type": "code",
      "execution_count": null,
      "metadata": {
        "id": "mj6FByh4kQIh"
      },
      "outputs": [],
      "source": []
    },
    {
      "cell_type": "markdown",
      "source": [
        "## !! 오늘 배운 것 정리\n",
        "* 조건문\n",
        "    * 조건에 따라 코드를 분기할 수 있는 구문\n",
        "    * if, elif, else\n",
        "    * elif와 else는 단독으로 사용이 되지 않습니다.\n",
        "    * 예시(score에 값을 변경해보면서 money 값을 확인해주세요.)\n",
        "    ```python\n",
        "    score = 81\n",
        "    money = 0\n",
        "\n",
        "    if score >= 90: # 만약에 조건이 참이라면\n",
        "        print('mom : i\\'m so happy!')\n",
        "        money += 1000000\n",
        "    elif score >= 80: # 그렇지 않고 만약에 조건이 참이라면\n",
        "        print('mom : i\\'m happy!')\n",
        "        money += 100000\n",
        "    elif score >= 70: # '그렇지 않고 만약에'에서 '그렇지 않고'가 만족이 안되기 때문에 실행하지 못합니다.\n",
        "        print('mom : i\\'m so...!')\n",
        "        money += 10000\n",
        "    elif score >= 60:\n",
        "        print('mom : i\\'m so...!')\n",
        "        money += 1000\n",
        "    else:\n",
        "        print('mom : i\\'m...!')\n",
        "    print(money)\n",
        "    ```\n",
        "    * 3항 연산자\n",
        "    ```python\n",
        "    def f(y):\n",
        "    return 'one' if y > 80 else None\n",
        "    ```\n",
        "* 정해진 순서를(next) 반복하는 것\n",
        "    * 형태\n",
        "    ```python\n",
        "    # for 변수 in 순회가능한객체:\n",
        "    #     code\n",
        "    ```\n",
        "    * 순회 가능한 객체(이터러블 객체) : 문자열, 리스트, 튜플, 딕셔너리, 셋, range, enumerate, map, set, sorted, reverse 등\n",
        "    * 순회 불가능한 객체 : int, float 등 \n",
        "    * code 안에서 변수를 사용하지 않을 경우 언더바를 관습적으로 사용합니다.\n",
        "    ```python\n",
        "    # for _ in 순회가능한객체:\n",
        "    #     code\n",
        "    ```"
      ],
      "metadata": {
        "id": "J0khVM0POlNU"
      }
    }
  ]
}