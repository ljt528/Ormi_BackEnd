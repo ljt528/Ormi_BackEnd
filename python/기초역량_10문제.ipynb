{
  "nbformat": 4,
  "nbformat_minor": 0,
  "metadata": {
    "colab": {
      "provenance": [],
      "authorship_tag": "ABX9TyPSSUj3m8g1tJDWqM8am8ub",
      "include_colab_link": true
    },
    "kernelspec": {
      "name": "python3",
      "display_name": "Python 3"
    },
    "language_info": {
      "name": "python"
    }
  },
  "cells": [
    {
      "cell_type": "markdown",
      "metadata": {
        "id": "view-in-github",
        "colab_type": "text"
      },
      "source": [
        "<a href=\"https://colab.research.google.com/github/ljt528/Backend/blob/main/%EA%B8%B0%EC%B4%88%EC%97%AD%EB%9F%89_10%EB%AC%B8%EC%A0%9C.ipynb\" target=\"_parent\"><img src=\"https://colab.research.google.com/assets/colab-badge.svg\" alt=\"Open In Colab\"/></a>"
      ]
    },
    {
      "cell_type": "code",
      "source": [
        "# 1. 원주율 정수(3)만 출력하도록 코드를 짜보세요.\n",
        "# 원주율 = 3.141592\n",
        "\n",
        "원주율 = 3.141592\n",
        "print(int(원주율))"
      ],
      "metadata": {
        "colab": {
          "base_uri": "https://localhost:8080/"
        },
        "id": "l7zcPazllT8n",
        "outputId": "07a74bd0-3862-468f-a2c9-234cec0c97de"
      },
      "execution_count": 37,
      "outputs": [
        {
          "output_type": "stream",
          "name": "stdout",
          "text": [
            "3\n"
          ]
        }
      ]
    },
    {
      "cell_type": "code",
      "source": [
        "# 2. 다음 파이썬 문법 중에서 True로 사용하는 것을 고르시오.\n",
        "\n",
        "# a. None\n",
        "# b. 1\n",
        "# c. \"\"\n",
        "# d. 0\n",
        "# e. bool(0)\n",
        "\n",
        "답 : b"
      ],
      "metadata": {
        "id": "-i3BlU2ylT6T"
      },
      "execution_count": null,
      "outputs": []
    },
    {
      "cell_type": "code",
      "source": [
        "# 3. 인사말을 완성해주세요.\n",
        "# 안녕하세요. 홍길동입니다.\n",
        "\n",
        "my_name = '홍길동'\n",
        "print(f'안녕하세요. {my_name}입니다.')"
      ],
      "metadata": {
        "colab": {
          "base_uri": "https://localhost:8080/"
        },
        "id": "5ycMzNzClT39",
        "outputId": "27f4e4f6-d89e-4205-be35-14fb5a59586b"
      },
      "execution_count": 44,
      "outputs": [
        {
          "output_type": "stream",
          "name": "stdout",
          "text": [
            "안녕하세요. 홍길동입니다.\n"
          ]
        }
      ]
    },
    {
      "cell_type": "code",
      "source": [
        "# 4. 리스트 요소 삭제 방법으로 맞지 않는 것은?\n",
        "\n",
        "# a. del 구문\n",
        "# b. clear()\n",
        "# c. reverse()\n",
        "# d. remove()\n",
        "# e. pop()\n",
        "\n",
        "답 : c"
      ],
      "metadata": {
        "id": "Rr0wUxvSlT1x"
      },
      "execution_count": null,
      "outputs": []
    },
    {
      "cell_type": "code",
      "source": [
        "# 5. 숫자를 입력 받고, 해당 값의 약수를 구하는 함수를 작성하시오.\n",
        "\n",
        "num = int(input('숫자를 입력해주세요 : '))\n",
        "result = []\n",
        "\n",
        "def divisor(num):\n",
        "    for i in range(1, num+1):\n",
        "        if num % i == 0:\n",
        "            result.append(i)\n",
        "    return result\n",
        "divisor(num)"
      ],
      "metadata": {
        "colab": {
          "base_uri": "https://localhost:8080/"
        },
        "id": "lJVqdN0llTzf",
        "outputId": "d2d3b3ab-3c60-44e1-e103-f915112abaf7"
      },
      "execution_count": 45,
      "outputs": [
        {
          "name": "stdout",
          "output_type": "stream",
          "text": [
            "숫자를 입력해주세요 : 6\n"
          ]
        },
        {
          "output_type": "execute_result",
          "data": {
            "text/plain": [
              "[1, 2, 3, 6]"
            ]
          },
          "metadata": {},
          "execution_count": 45
        }
      ]
    },
    {
      "cell_type": "code",
      "source": [
        "# 6. 함수는 리스트와 알파벳을 입력받습니다.\n",
        "# 입력받은 리스트에서 알파벳이 몇 개 있는지 출력하는 함수를 만들어주세요.\n",
        "\n",
        "def solution(l, a):\n",
        "    return l.count(a)\n",
        "\n",
        "solution(['a', 'b', 'c', 'a', 'a'], 'a')"
      ],
      "metadata": {
        "colab": {
          "base_uri": "https://localhost:8080/"
        },
        "id": "1YyoLtGRjCGa",
        "outputId": "9e41b375-3613-4d8b-ad5d-274b8a3fedd6"
      },
      "execution_count": 46,
      "outputs": [
        {
          "output_type": "execute_result",
          "data": {
            "text/plain": [
              "3"
            ]
          },
          "metadata": {},
          "execution_count": 46
        }
      ]
    },
    {
      "cell_type": "code",
      "source": [
        "# 7. 함수는 2차원 리스트를 입력받습니다.\n",
        "# 아래와 같이 2차원 리스트를 두번째 값을 기준으로 내림차순 정렬하는 함수를 만들어주세요.\n",
        "# 정답 : [[10, 5], [30, 4], [20, 3], [40, 1]]\n",
        "\n",
        "def solution(l):\n",
        "    return sorted(l, key = lambda x : x[1], reverse = True)\n",
        "\n",
        "solution([[10, 5], [20, 3], [30, 4], [40, 1]])"
      ],
      "metadata": {
        "colab": {
          "base_uri": "https://localhost:8080/"
        },
        "id": "wZ3JEq8_lTvQ",
        "outputId": "44b8dd0e-6060-43a7-dd3e-7881f954e45c"
      },
      "execution_count": 47,
      "outputs": [
        {
          "output_type": "execute_result",
          "data": {
            "text/plain": [
              "[[10, 5], [30, 4], [20, 3], [40, 1]]"
            ]
          },
          "metadata": {},
          "execution_count": 47
        }
      ]
    },
    {
      "cell_type": "code",
      "source": [
        "# 8. 2차원 리스트가 주어졌을 때 각 값의 차를 저장한 리스트를 출력해주세요.\n",
        "# 정답 : [[5], [17], [26], [39]]\n",
        "\n",
        "def solution(l):\n",
        "    return list(map(lambda x : x[0]-x[1], l))\n",
        "\n",
        "solution([[10, 5], [20, 3], [30, 4], [40, 1]]) "
      ],
      "metadata": {
        "colab": {
          "base_uri": "https://localhost:8080/"
        },
        "id": "wQgzugtglTtP",
        "outputId": "53236d46-2165-40b6-a448-c136ab739ac5"
      },
      "execution_count": 54,
      "outputs": [
        {
          "output_type": "execute_result",
          "data": {
            "text/plain": [
              "[5, 17, 26, 39]"
            ]
          },
          "metadata": {},
          "execution_count": 54
        }
      ]
    },
    {
      "cell_type": "code",
      "source": [
        "# 9. 주어진 문자열의 합을 구하는 코드를 작성하세요.\n",
        "# 주어진 문자열의 합을 구하는 코드를 작성하세요.\n",
        "# 정답 : 8\n",
        "\n",
        "def solution(s):\n",
        "    return sum([int(i) for i in s])\n",
        "\n",
        "solution('11123')"
      ],
      "metadata": {
        "colab": {
          "base_uri": "https://localhost:8080/"
        },
        "id": "O7ZFPFpHlTqt",
        "outputId": "5a9a7e05-6711-4b1b-cf9b-e6e433bc2813"
      },
      "execution_count": 65,
      "outputs": [
        {
          "output_type": "execute_result",
          "data": {
            "text/plain": [
              "8"
            ]
          },
          "metadata": {},
          "execution_count": 65
        }
      ]
    },
    {
      "cell_type": "code",
      "source": [
        "# 10. 주어진 문자열에서 ‘!’와 공백을 없애는 코드를 작성하세요.\n",
        "# 정답 : helloworld\n",
        "\n",
        "def solution(s):\n",
        "    return s.replace('!', '').replace(' ', '')\n",
        "\n",
        "solution('!hello!wor     ld!     ')"
      ],
      "metadata": {
        "colab": {
          "base_uri": "https://localhost:8080/",
          "height": 35
        },
        "id": "0EOohKfk2JIK",
        "outputId": "41cb8b12-33cd-4446-df3f-e45888c64c5b"
      },
      "execution_count": 67,
      "outputs": [
        {
          "output_type": "execute_result",
          "data": {
            "text/plain": [
              "'helloworld'"
            ],
            "application/vnd.google.colaboratory.intrinsic+json": {
              "type": "string"
            }
          },
          "metadata": {},
          "execution_count": 67
        }
      ]
    }
  ]
}